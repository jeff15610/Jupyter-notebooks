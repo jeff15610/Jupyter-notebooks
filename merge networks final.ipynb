{
 "cells": [
  {
   "cell_type": "code",
   "execution_count": null,
   "metadata": {},
   "outputs": [],
   "source": [
    "#Assignment:\n",
    "#let’s merge this network: http://doi.org/10.18119/N91597\n",
    "#    with this other one: http://www.ndexbio.org/#/network/1c69beff-1229-11e6-a039-06603eb7f303\n",
    "#    or http://www.ndexbio.org/#/network/89975ebb-6294-11e7-a03e-0ac135e8bacf\n",
    "#Merge them to make a new network in which nodes that have the same name are combined.\n",
    "#If there is node 1 in network 1 that has the same name as node 2 in network 2, \n",
    "#    the new network should have just one node of that name that has all the attributes from node 1 AND node 2.\n",
    "#As you do the merge, each node should be given an additional attribute “fromNetwork” \n",
    "#    so we can tell which network it originally came from. Values can be “network1”, “network2” or “both”\n",
    "#Save to ndex\n",
    "#Use Cytoscape to give it a graphic style in which the nodes are colored based on “fromNetwork”\n",
    "\n",
    "#Steps:\n",
    "#Step 1: for each node in TO, store the id as the value and the name as the key in the name-id map\n",
    "#Step 2: for each node in FROM, check if its name is already in the name-id map. \n",
    "#        If it is, then store the TO id as the value and the from id as the key in the from-to-id-map. \n",
    "#        Otherwise, create the node in the TO network and \n",
    "#        then store the mapping between the node id in FROM to the id of the new node in TO.\n",
    "#Step 3: copy the edges from FROM, \n",
    "#        creating new edges using the corresponding node ids in the from-to-node-id map and old_new_id_map.\n",
    "\n",
    "#Special notice:\n",
    "# Method \"create_node\" returns a new node id in To network, the index always begins from \"0\",\n",
    "#   if the created id is duplicated with the existing id in the To network, the new node will replace the existing node.\n",
    "#   Therefor, we should check the node id in both networks to decide which is the To network.\n",
    "# Same as method 'create_edge' "
   ]
  },
  {
   "cell_type": "code",
   "execution_count": 69,
   "metadata": {
    "scrolled": true
   },
   "outputs": [],
   "source": [
    "import ndex2.client as nc\n",
    "import io\n",
    "import json\n",
    "from time import sleep\n",
    "\n",
    "from ndex2.nice_cx_network import NiceCXNetwork\n",
    "import ndex2\n",
    "\n",
    "import networkx as nx\n",
    "import numpy as np\n",
    "\n",
    "#create a NDEx client object to access my accouont on the NDEx server\n",
    "my_account=\"Jeffreyc\"\n",
    "my_password=\"Frenchfri3\"\n",
    "\n",
    "my_ndex=nc.Ndex2(\"http://public.ndexbio.org\", my_account, my_password)\n",
    "my_ndex.update_status()\n"
   ]
  },
  {
   "cell_type": "code",
   "execution_count": 70,
   "metadata": {
    "scrolled": true
   },
   "outputs": [
    {
     "name": "stdout",
     "output_type": "stream",
     "text": [
      "\n",
      "\n",
      "Name: BioPlex 2.0 ( ~ 56,000 interactions )\n",
      "Nodes: 10961\n",
      "Edges: 56553\n",
      "Node Attributes: 10961\n",
      "Edge Attributes: 169659\n",
      "\n",
      "\n",
      "\n",
      "Name: ChEMBL - High Affinity Compounds vs human targets (Commercially available)\n",
      "Nodes: 3564\n",
      "Edges: 11564\n",
      "Node Attributes: 13569\n",
      "Edge Attributes: 57820\n",
      "\n"
     ]
    }
   ],
   "source": [
    "#get NiceCX objects in order to add attribute\n",
    "\n",
    "uuid_1 = '98ba6a19-586e-11e7-8f50-0ac135e8bacf'\n",
    "uuid_2 = '1c69beff-1229-11e6-a039-06603eb7f303'\n",
    "\n",
    "#Smaller networks for testing\n",
    "#uuid_1 = '6bde432c-0b40-11e7-aba2-0ac135e8bacf'\n",
    "#uuid_2 = 'c53894ce-8e47-11e5-b435-06603eb7f303'\n",
    "\n",
    "NiceCX_network_1 = ndex2.create_nice_cx_from_server(server='http://public.ndexbio.org',  uuid = uuid_1)\n",
    "NiceCX_network_2 = ndex2.create_nice_cx_from_server(server='http://public.ndexbio.org',  uuid = uuid_2)\n",
    "\n",
    "print (\"\\n\")\n",
    "NiceCX_network_1.print_summary()\n",
    "print (\"\\n\")\n",
    "NiceCX_network_2.print_summary()"
   ]
  },
  {
   "cell_type": "code",
   "execution_count": 71,
   "metadata": {},
   "outputs": [
    {
     "name": "stdout",
     "output_type": "stream",
     "text": [
      "\n",
      " The From network is:\n",
      "Name: ChEMBL - High Affinity Compounds vs human targets (Commercially available)\n",
      "Nodes: 3564\n",
      "Edges: 11564\n",
      "Node Attributes: 13569\n",
      "Edge Attributes: 57820\n",
      "\n",
      "\n",
      " The To network is:\n",
      "Name: Untitled\n",
      "Nodes: 10961\n",
      "Edges: 56553\n",
      "Node Attributes: 10961\n",
      "Edge Attributes: 169659\n",
      "\n"
     ]
    }
   ],
   "source": [
    "#determine which network is \"TO\" and \"FROM\"\n",
    "\n",
    "#nodes and edges in two networks may have duplicate id\n",
    "#Duplicate large network to avoid the issue\n",
    "\n",
    "#get the number of nodes in each network\n",
    "number_of_nodes_network1 = len(NiceCX_network_1.get_nodes())\n",
    "number_of_nodes_network2 = len(NiceCX_network_2.get_nodes())\n",
    "\n",
    "#print(number_of_nodes_network1)\n",
    "#print(number_of_nodes_network2)\n",
    "\n",
    "#the smaller network is the From network\n",
    "if(number_of_nodes_network1 >= number_of_nodes_network2):\n",
    "    NiceCX_larger = NiceCX_network_1\n",
    "    NiceCX_From = NiceCX_network_2\n",
    "else:\n",
    "    NiceCX_larger = NiceCX_network_2\n",
    "    NiceCX_From = NiceCX_network_1\n",
    "    \n",
    "#copy the larger network to To network    \n",
    "NiceCX_To = NiceCXNetwork() #Create an empty niceCx network\n",
    "        \n",
    "#copy the larger network to the new created network, the new network is To network\n",
    "for node_id, larger_node in NiceCX_larger.get_nodes():\n",
    "    #get each node name in larger network   \n",
    "    name = list(larger_node.values())[1]  \n",
    "            \n",
    "    #'create_node' creates an empty node and returns a node id in the TO network \n",
    "    NiceCX_To.create_node(name,node_id)   \n",
    "        \n",
    "    #set the node attribute values    \n",
    "    \n",
    "    # CAUTION: some nodes in this network have no node attribute! \n",
    "    #          In that case, get_node_attributes(node_id) returns a \"None\" value\n",
    "    node_attr_list = NiceCX_larger.get_node_attributes(node_id)     #return each node attrbute as an array\n",
    "    \n",
    "    if (node_attr_list != None):    \n",
    "        for i in range(len(node_attr_list)): \n",
    "            node_attr_name = list(node_attr_list[i].values())[1]   \n",
    "            node_attr_value = list(node_attr_list[i].values())[2]\n",
    "        \n",
    "            NiceCX_To.set_node_attribute(node_id, node_attr_name, node_attr_value ) \n",
    "            \n",
    "#copy the edges to To network\n",
    "\n",
    "#create 3 lists to store each edge's 's', 't', 'i' values. These 3 list will be used for checking duplicate edges\n",
    "to_edge_s_list = []\n",
    "to_edge_t_list = []\n",
    "to_edge_i_list = []\n",
    "\n",
    "for edge_id, larger_edge in NiceCX_larger.get_edges():        \n",
    "    edge_s = larger_edge.get('s') #source node id in larger network\n",
    "    edge_t = larger_edge.get('t') #target node id in larger network\n",
    "    edge_i = larger_edge.get('i') #interaction in the larger network\n",
    "    \n",
    "    to_edge_s_list.append(edge_s)\n",
    "    to_edge_t_list.append(edge_t)\n",
    "    to_edge_i_list.append(edge_i)\n",
    "\n",
    "    # 'create_edge' creates an empty edge and returns an edge id\n",
    "    NiceCX_To.create_edge(edge_s, edge_t, edge_i)\n",
    "\n",
    "    #set the edge attribute values      \n",
    "    edge_attr_list = NiceCX_larger.get_edge_attributes(edge_id)\n",
    "    if(edge_attr_list != None):\n",
    "        for j in range(len(edge_attr_list)): \n",
    "            edge_attr_name = list(edge_attr_list[j].values())[1]   \n",
    "            edge_attr_value = list(edge_attr_list[j].values())[2]\n",
    "            NiceCX_To.set_edge_attribute(edge_id, edge_attr_name, edge_attr_value )         \n",
    "            \n",
    "#create a dict to store the edge in To network, source node is key and target node as value\n",
    "to_edge_map = dict(zip(to_edge_s_list,to_edge_t_list))         \n",
    "\n",
    "\n",
    "print(\"\\n\",\"The From network is:\")\n",
    "NiceCX_From.print_summary()\n",
    "print(\"\\n\",\"The To network is:\")\n",
    "NiceCX_To.print_summary()"
   ]
  },
  {
   "cell_type": "code",
   "execution_count": 72,
   "metadata": {},
   "outputs": [
    {
     "name": "stdout",
     "output_type": "stream",
     "text": [
      "number of nodes in To:  10961\n"
     ]
    }
   ],
   "source": [
    "#Step 1: for each node in TO, store the id as the value and the name as the key in the name-id map\n",
    "\n",
    "#create two arrays to store the node names and node ids in To network \n",
    "to_name_as_key = []\n",
    "to_id_as_value = []\n",
    "\n",
    "#following code is in \"NiceCX v2.0 Tutorial\", In[24], \"CREATE A NAME to ID LOOKUP \"\n",
    "\n",
    "#NiceCX_To.get_nodes() returns two arguments: node_id (which is node id) and node (which is node object)\n",
    "for node_id, node in NiceCX_To.get_nodes() :\n",
    "    \n",
    "    #creates a dict name_id_map, where to_node.get('n') is key and to_node.get('@id') is value\n",
    "    name_id_map ={node.get('n'): node.get('@id') for node_id, node in NiceCX_To.get_nodes()}\n",
    "\n",
    "to_name_as_key = list(name_id_map.keys()) # \n",
    "to_id_as_value = list(name_id_map.values()) # to_id_as_value[0] = 826, to_id_as_value[825] = 1\n",
    "\n",
    "\n",
    "number_of_node_in_to = len(to_id_as_value)\n",
    "print(\"number of nodes in To: \",number_of_node_in_to)\n"
   ]
  },
  {
   "cell_type": "code",
   "execution_count": 73,
   "metadata": {},
   "outputs": [],
   "source": [
    "#add attribute \"fromNetwork\" to each node in NiceCX_To\n",
    "for node_id, node in NiceCX_To.get_nodes() :\n",
    "    NiceCX_To.add_node_attribute(node_id, name='fromNetwork', values='network1')\n",
    "\n",
    "#add attribute \"fromNetwork\" to each node in NiceCX_From\n",
    "#for node_id, node in NiceCX_From.get_nodes() :\n",
    "#    NiceCX_From.add_node_attribute(node_id, name='fromNetwork', values='network2')\n",
    "#    print(NiceCX_From.get_node_attributes(node_id))"
   ]
  },
  {
   "cell_type": "code",
   "execution_count": 74,
   "metadata": {},
   "outputs": [
    {
     "name": "stdout",
     "output_type": "stream",
     "text": [
      "found  3167  unmatched nodes in From network. will be copied to To network\n",
      "found  397 matched nodes in From network. will change attribute value to 'both' in To network\n"
     ]
    }
   ],
   "source": [
    "#Step 2: for each node in FROM, check if its name is already in the name-id map. \n",
    "#If it is, then store the TO id as the value and the from id as the key in the from-to-id-map. \n",
    "#Otherwise, create the node in the TO network and \n",
    "#then store the mapping between the node id in FROM to the id of the new node in TO.\n",
    "\n",
    "#create two lists for from-to-id-map, this map keeps the duplicated nodes\n",
    "#fromid_list_as_key is the list has all the matched node id in From network\n",
    "#toid_list_as_value is the list has all the matched node id in To network\n",
    "fromid_list_as_key = []\n",
    "toid_list_as_value =[]\n",
    "\n",
    "#create two lists for old-new-id-map, this map keeps unmatched nodes\n",
    "#oldid_list_as_key is the list that has all the unmatched node id in From network\n",
    "#newid_list_as_value is the list that has all the new node id in To network, which is created/copied for unmatched node \n",
    "oldid_list_as_key =[]\n",
    "newid_list_as_value = []\n",
    "\n",
    "#for loop to check each node in From network, from_node retruns a node object\n",
    "for from_node_id, from_node in NiceCX_From.get_nodes():\n",
    "    a = 0\n",
    "    this_node_name = from_node.get('n') #from_node.get('n') retruns node name of from_node_id in From network\n",
    "    \n",
    "    for i in range(len(to_name_as_key)):  # to_name_as_key is the list of node names in To network\n",
    "        if (this_node_name == to_name_as_key[i]):  #if found the match node\n",
    "            fromid_list_as_key.append(from_node_id)   #add this node id to duplicate From id list\n",
    "            toid_list_as_value.append(name_id_map[this_node_name]) # find dict value(id in To network) by dict key (name in To) in name_id_map\n",
    "            break\n",
    "        else:\n",
    "            a += 1\n",
    "    \n",
    "    if (a == len(to_name_as_key)): #if no match then create a new node in To network\n",
    "        # \"create_node\" return a new node id in To network, id always begins from \"0\"\n",
    "        new_id_in_To = NiceCX_To.create_node(this_node_name,node_represents=from_node_id) \n",
    "        \n",
    "        oldid_list_as_key.append(from_node_id) #add this unmatched node id in From network to the old_id_list\n",
    "        newid_list_as_value.append(new_id_in_To) #add the new created id in To network to the new_id_list\n",
    "\n",
    "#create two dicts\n",
    "from_to_id_map = dict(zip(fromid_list_as_key,toid_list_as_value))      \n",
    "old_new_id_map = dict(zip(oldid_list_as_key,newid_list_as_value))\n",
    "            \n",
    "print (\"found \", len(oldid_list_as_key), \" unmatched nodes in From network. will be copied to To network\")\n",
    "                                               \n",
    "print (\"found \", len(fromid_list_as_key), \"matched nodes in From network. will change attribute value to 'both' in To network\")"
   ]
  },
  {
   "cell_type": "code",
   "execution_count": 75,
   "metadata": {},
   "outputs": [
    {
     "name": "stdout",
     "output_type": "stream",
     "text": [
      "397\n"
     ]
    }
   ],
   "source": [
    "#for the matched nodes in To network\n",
    "#add all attributes in From to the same node in To\n",
    "#combine the same attributes and change the value of the attribute \n",
    "\n",
    "#in from_to_id_map, go through each id \n",
    "\n",
    "print (len(fromid_list_as_key))\n",
    "\n",
    "for x in range (len(fromid_list_as_key)):\n",
    "    \n",
    "    #for each pair of from_to_id_map, find value (node id in To network) by key (node id in From network\n",
    "    from_node_id = fromid_list_as_key[x]    \n",
    "    to_node_id = from_to_id_map[from_node_id]\n",
    "    \n",
    "    #in From network, find the node corresponding from_node_id, store this node's attributes (name:value) in dict from_attr_map\n",
    "    from_node_attr_list = NiceCX_From.get_node_attributes(from_node_id) #return each node attrbutes in From as an array\n",
    "    from_node_attr_name = []\n",
    "    from_node_attr_value = []\n",
    "    \n",
    "    if (from_node_attr_list != None):    \n",
    "        for y in range(len(from_node_attr_list)):         \n",
    "            from_node_attr_name.append(list(from_node_attr_list[y].values())[1]) \n",
    "            from_node_attr_value.append(list(from_node_attr_list[y].values())[2])  \n",
    "    from_attr_map = dict(zip(from_node_attr_name,from_node_attr_value)) #create a dict to store the attributes pair in From network\n",
    "    \n",
    "    #in To network, find the node corresponding to_node_id, store this node's attributes (name:value) in dict to_attr_map\n",
    "    to_node_attr_list = NiceCX_To.get_node_attributes(to_node_id)  #return each node attrbutes in To as an array\n",
    "    to_node_attr_name = []\n",
    "    to_node_attr_value = []\n",
    "    \n",
    "    if (to_node_attr_list != None):    \n",
    "        for z in range(len(to_node_attr_list)): \n",
    "            to_node_attr_name.append(list(to_node_attr_list[z].values())[1])\n",
    "            to_node_attr_value.append(list(to_node_attr_list[z].values())[2])\n",
    "    to_attr_map = dict(zip(to_node_attr_name,to_node_attr_value)) #create a dict to store the attributes pair in From network\n",
    "    \n",
    "    #go through the attribute list of the node in from_to_id_map\n",
    "    for a in range (len(to_node_attr_name)):\n",
    "        for b in range (len(from_node_attr_name)):       \n",
    "                    \n",
    "            #copy the rest attributes in From network node to To network node with the pair of from_to_id_map\n",
    "            if (from_node_attr_name[b] != to_node_attr_name[a]):\n",
    "                NiceCX_To.add_node_attribute(to_node_id, from_node_attr_name[b], from_attr_map[from_node_attr_name[b]] ) \n",
    "        \n",
    "        \n",
    "    #add attribure 'fromNetwork', value is 'both'\n",
    "    NiceCX_To.remove_node_attribute(to_node_id,'fromNetwork' )\n",
    "    NiceCX_To.add_node_attribute(to_node_id, name='fromNetwork', values='both')\n",
    "    \n",
    "\n"
   ]
  },
  {
   "cell_type": "code",
   "execution_count": 76,
   "metadata": {
    "scrolled": false
   },
   "outputs": [],
   "source": [
    "#for the unmatched nodes, COPY the node attribute in From to the created node in To\n",
    "\n",
    "#using for loop to retrieve all the unmatched node in From network\n",
    "for n in range(len(oldid_list_as_key)):\n",
    "    node_attributes = NiceCX_From.get_node_attributes(oldid_list_as_key[n])    #return node attributes as array  \n",
    "    \n",
    "    new_id_in_To = old_new_id_map[oldid_list_as_key[n]] #find the corrsponding node ids in To network\n",
    "        \n",
    "    #set the attribute values in the To network, have to set attributes one by one to each node\n",
    "    if (node_attributes != None):\n",
    "        for x in range(len(node_attributes)): \n",
    "            #print(node_attributes[x])\n",
    "            attr_name = list(node_attributes[x].values())[1]   \n",
    "            attr_value = list(node_attributes[x].values())[2]  \n",
    "                \n",
    "            NiceCX_To.set_node_attribute(new_id_in_To, attr_name, attr_value ) \n",
    "        \n",
    "    #add attribute \"fromNetwork\" to each node in NiceCX_From\n",
    "    NiceCX_To.add_node_attribute(new_id_in_To, name='fromNetwork', values='network2')    "
   ]
  },
  {
   "cell_type": "code",
   "execution_count": 77,
   "metadata": {},
   "outputs": [
    {
     "name": "stdout",
     "output_type": "stream",
     "text": [
      "There are  397  nodes in To network have 'both' attribute value\n",
      "There are  10564  nodes in To network have 'network1' attribute value\n",
      "There are  3167  nodes in To network have 'network2' attribute value\n"
     ]
    }
   ],
   "source": [
    "#check how many nodes in To network has \"both\" value\n",
    "b = 0\n",
    "n1 =0\n",
    "n2=0\n",
    "for id, node in NiceCX_To.get_nodes() :\n",
    "    if (NiceCX_To.get_node_attribute_value(id, 'fromNetwork') == 'both'):\n",
    "        b +=1        \n",
    "    if (NiceCX_To.get_node_attribute_value(id, 'fromNetwork') == 'network1'):\n",
    "        n1 += 1\n",
    "    if (NiceCX_To.get_node_attribute_value(id, 'fromNetwork') == 'network2'):\n",
    "        n2 += 1\n",
    "print(\"There are \", b, \" nodes in To network have 'both' attribute value\")\n",
    "print(\"There are \", n1, \" nodes in To network have 'network1' attribute value\")\n",
    "print(\"There are \", n2, \" nodes in To network have 'network2' attribute value\")"
   ]
  },
  {
   "cell_type": "code",
   "execution_count": 78,
   "metadata": {},
   "outputs": [
    {
     "name": "stdout",
     "output_type": "stream",
     "text": [
      "total nodes in the TO network  14128\n",
      "total edges in the TO network  68117\n"
     ]
    }
   ],
   "source": [
    "#Step 3: copy the edges from FROM, \n",
    "#creating new edges using the corresponding node ids in the from-to-node-id map and old_new_id_map.\n",
    "\n",
    "#create 3 list to store each edge values in From network\n",
    "from_edge_s_list = []\n",
    "from_edge_t_list = []\n",
    "#from_edge_i_list = []\n",
    "\n",
    "#get each edge data in From network\n",
    "for edge_id, from_edge in NiceCX_From.get_edges():\n",
    "    from_edge_id = edge_id #edge id in From network\n",
    "    from_edge_s = from_edge.get('s') #source node id in From network\n",
    "    from_edge_t = from_edge.get('t') #target node id in From network\n",
    "    from_edge_i = from_edge.get('i') #interaction in the From network\n",
    "\n",
    "   #check if this edge is already in To network  \n",
    "    for n in range (len(to_edge_s_list)):\n",
    "        if (from_edge_s == to_edge_s_list[n] and from_edge_t == to_edge_map[to_edge_s_list[n]]):\n",
    "            break\n",
    "\n",
    "    # 'create_edge' creates an empty edge and returns an edge id\n",
    "    NiceCX_To.create_edge(from_edge_s, from_edge_t, from_edge_i)    \n",
    "    \n",
    "    #set the edge attribute values      \n",
    "    edge_attr_list = NiceCX_To.get_edge_attributes(from_edge_id)\n",
    "    if(edge_attr_list != None):\n",
    "        for x in range(len(edge_attr_list)): \n",
    "            edge_attr_name = list(edge_attr_list[x].values())[1] \n",
    "            edge_attr_value = list(edge_attr_list[x].values())[2]\n",
    "            NiceCX_To.set_edge_attribute(edge_id, edge_attr_name, edge_attr_value )  \n",
    "    \n",
    "print(\"total nodes in the TO network \", len(NiceCX_To.get_nodes()))\n",
    "print(\"total edges in the TO network \", len(NiceCX_To.get_edges()))"
   ]
  },
  {
   "cell_type": "code",
   "execution_count": 79,
   "metadata": {},
   "outputs": [
    {
     "name": "stdout",
     "output_type": "stream",
     "text": [
      "Generating CX\n",
      "http://public.ndexbio.org/v2/network/10e466b2-988f-11e9-bcaf-0ac135e8bacf\n"
     ]
    }
   ],
   "source": [
    "#upload the combined network to my account\n",
    "uri_upload_message = NiceCX_To.upload_to(\"http://public.ndexbio.org\", my_account, my_password)\n",
    "print(uri_upload_message)"
   ]
  },
  {
   "cell_type": "code",
   "execution_count": 80,
   "metadata": {
    "scrolled": true
   },
   "outputs": [
    {
     "ename": "HTTPError",
     "evalue": "500 Server Error:  for url: http://public.ndexbio.org/v2/network/10e466b2-988f-11e9-bcaf-0ac135e8bacf/profile",
     "output_type": "error",
     "traceback": [
      "\u001b[1;31m---------------------------------------------------------------------------\u001b[0m",
      "\u001b[1;31mHTTPError\u001b[0m                                 Traceback (most recent call last)",
      "\u001b[1;32m<ipython-input-80-3e4dd7901048>\u001b[0m in \u001b[0;36m<module>\u001b[1;34m()\u001b[0m\n\u001b[0;32m      3\u001b[0m \u001b[1;33m\u001b[0m\u001b[0m\n\u001b[0;32m      4\u001b[0m \u001b[0mnew_profile\u001b[0m\u001b[1;33m=\u001b[0m\u001b[1;33m{\u001b[0m\u001b[1;34m\"name\"\u001b[0m\u001b[1;33m:\u001b[0m\u001b[1;34m\"combined 2 networks\"\u001b[0m\u001b[1;33m,\u001b[0m \u001b[1;34m\"description\"\u001b[0m\u001b[1;33m:\u001b[0m\u001b[1;34m\"Merge 2 networks to make a new network in which nodes that have the same name are combined.\"\u001b[0m\u001b[1;33m,\u001b[0m \u001b[1;34m\"version\"\u001b[0m\u001b[1;33m:\u001b[0m\u001b[1;34m\"4.0\"\u001b[0m\u001b[1;33m}\u001b[0m\u001b[1;33m\u001b[0m\u001b[0m\n\u001b[1;32m----> 5\u001b[1;33m \u001b[0mmy_ndex\u001b[0m\u001b[1;33m.\u001b[0m\u001b[0mupdate_network_profile\u001b[0m\u001b[1;33m(\u001b[0m\u001b[0muuid\u001b[0m\u001b[1;33m,\u001b[0m \u001b[0mnew_profile\u001b[0m\u001b[1;33m)\u001b[0m\u001b[1;33m\u001b[0m\u001b[0m\n\u001b[0m\u001b[0;32m      6\u001b[0m \u001b[0mmy_ndex\u001b[0m\u001b[1;33m.\u001b[0m\u001b[0mmake_network_public\u001b[0m\u001b[1;33m(\u001b[0m\u001b[0muuid\u001b[0m\u001b[1;33m)\u001b[0m\u001b[1;33m\u001b[0m\u001b[0m\n",
      "\u001b[1;32m~\\Anaconda3\\lib\\site-packages\\ndex2\\client.py\u001b[0m in \u001b[0;36mupdate_network_profile\u001b[1;34m(self, network_id, network_profile)\u001b[0m\n\u001b[0;32m    781\u001b[0m         \u001b[1;32mif\u001b[0m \u001b[0mself\u001b[0m\u001b[1;33m.\u001b[0m\u001b[0mversion\u001b[0m \u001b[1;33m==\u001b[0m \u001b[1;34m\"2.0\"\u001b[0m\u001b[1;33m:\u001b[0m\u001b[1;33m\u001b[0m\u001b[0m\n\u001b[0;32m    782\u001b[0m             \u001b[0mroute\u001b[0m \u001b[1;33m=\u001b[0m \u001b[1;34m\"/network/%s/profile\"\u001b[0m \u001b[1;33m%\u001b[0m \u001b[0mnetwork_id\u001b[0m\u001b[1;33m\u001b[0m\u001b[0m\n\u001b[1;32m--> 783\u001b[1;33m             \u001b[1;32mreturn\u001b[0m \u001b[0mself\u001b[0m\u001b[1;33m.\u001b[0m\u001b[0mput\u001b[0m\u001b[1;33m(\u001b[0m\u001b[0mroute\u001b[0m\u001b[1;33m,\u001b[0m \u001b[0mjson_data\u001b[0m\u001b[1;33m)\u001b[0m\u001b[1;33m\u001b[0m\u001b[0m\n\u001b[0m\u001b[0;32m    784\u001b[0m         \u001b[1;32melse\u001b[0m\u001b[1;33m:\u001b[0m\u001b[1;33m\u001b[0m\u001b[0m\n\u001b[0;32m    785\u001b[0m             \u001b[0mroute\u001b[0m \u001b[1;33m=\u001b[0m \u001b[1;34m\"/network/%s/summary\"\u001b[0m \u001b[1;33m%\u001b[0m \u001b[0mnetwork_id\u001b[0m\u001b[1;33m\u001b[0m\u001b[0m\n",
      "\u001b[1;32m~\\Anaconda3\\lib\\site-packages\\ndex2\\client.py\u001b[0m in \u001b[0;36mput\u001b[1;34m(self, route, put_json)\u001b[0m\n\u001b[0;32m    131\u001b[0m             \u001b[0mresponse\u001b[0m \u001b[1;33m=\u001b[0m \u001b[0mself\u001b[0m\u001b[1;33m.\u001b[0m\u001b[0ms\u001b[0m\u001b[1;33m.\u001b[0m\u001b[0mput\u001b[0m\u001b[1;33m(\u001b[0m\u001b[0murl\u001b[0m\u001b[1;33m,\u001b[0m \u001b[0mheaders\u001b[0m\u001b[1;33m=\u001b[0m\u001b[0mheaders\u001b[0m\u001b[1;33m)\u001b[0m\u001b[1;33m\u001b[0m\u001b[0m\n\u001b[0;32m    132\u001b[0m         \u001b[0mself\u001b[0m\u001b[1;33m.\u001b[0m\u001b[0mdebug_response\u001b[0m\u001b[1;33m(\u001b[0m\u001b[0mresponse\u001b[0m\u001b[1;33m)\u001b[0m\u001b[1;33m\u001b[0m\u001b[0m\n\u001b[1;32m--> 133\u001b[1;33m         \u001b[0mresponse\u001b[0m\u001b[1;33m.\u001b[0m\u001b[0mraise_for_status\u001b[0m\u001b[1;33m(\u001b[0m\u001b[1;33m)\u001b[0m\u001b[1;33m\u001b[0m\u001b[0m\n\u001b[0m\u001b[0;32m    134\u001b[0m         \u001b[1;32mif\u001b[0m \u001b[0mresponse\u001b[0m\u001b[1;33m.\u001b[0m\u001b[0mstatus_code\u001b[0m \u001b[1;33m==\u001b[0m \u001b[1;36m204\u001b[0m\u001b[1;33m:\u001b[0m\u001b[1;33m\u001b[0m\u001b[0m\n\u001b[0;32m    135\u001b[0m             \u001b[1;32mreturn\u001b[0m \u001b[1;34m\"\"\u001b[0m\u001b[1;33m\u001b[0m\u001b[0m\n",
      "\u001b[1;32m~\\Anaconda3\\lib\\site-packages\\requests\\models.py\u001b[0m in \u001b[0;36mraise_for_status\u001b[1;34m(self)\u001b[0m\n\u001b[0;32m    937\u001b[0m \u001b[1;33m\u001b[0m\u001b[0m\n\u001b[0;32m    938\u001b[0m         \u001b[1;32mif\u001b[0m \u001b[0mhttp_error_msg\u001b[0m\u001b[1;33m:\u001b[0m\u001b[1;33m\u001b[0m\u001b[0m\n\u001b[1;32m--> 939\u001b[1;33m             \u001b[1;32mraise\u001b[0m \u001b[0mHTTPError\u001b[0m\u001b[1;33m(\u001b[0m\u001b[0mhttp_error_msg\u001b[0m\u001b[1;33m,\u001b[0m \u001b[0mresponse\u001b[0m\u001b[1;33m=\u001b[0m\u001b[0mself\u001b[0m\u001b[1;33m)\u001b[0m\u001b[1;33m\u001b[0m\u001b[0m\n\u001b[0m\u001b[0;32m    940\u001b[0m \u001b[1;33m\u001b[0m\u001b[0m\n\u001b[0;32m    941\u001b[0m     \u001b[1;32mdef\u001b[0m \u001b[0mclose\u001b[0m\u001b[1;33m(\u001b[0m\u001b[0mself\u001b[0m\u001b[1;33m)\u001b[0m\u001b[1;33m:\u001b[0m\u001b[1;33m\u001b[0m\u001b[0m\n",
      "\u001b[1;31mHTTPError\u001b[0m: 500 Server Error:  for url: http://public.ndexbio.org/v2/network/10e466b2-988f-11e9-bcaf-0ac135e8bacf/profile"
     ]
    }
   ],
   "source": [
    "#update the network profile\n",
    "uuid = uri_upload_message.rpartition('/')[-1]\n",
    "\n",
    "new_profile={\"name\":\"combined 2 networks\", \"description\":\"Merge 2 networks to make a new network in which nodes that have the same name are combined.\", \"version\":\"4.0\"}\n",
    "my_ndex.update_network_profile(uuid, new_profile)    \n",
    "my_ndex.make_network_public(uuid)\n"
   ]
  },
  {
   "cell_type": "code",
   "execution_count": null,
   "metadata": {},
   "outputs": [],
   "source": []
  }
 ],
 "metadata": {
  "kernelspec": {
   "display_name": "Python 3",
   "language": "python",
   "name": "python3"
  },
  "language_info": {
   "codemirror_mode": {
    "name": "ipython",
    "version": 3
   },
   "file_extension": ".py",
   "mimetype": "text/x-python",
   "name": "python",
   "nbconvert_exporter": "python",
   "pygments_lexer": "ipython3",
   "version": "3.7.0"
  }
 },
 "nbformat": 4,
 "nbformat_minor": 2
}
