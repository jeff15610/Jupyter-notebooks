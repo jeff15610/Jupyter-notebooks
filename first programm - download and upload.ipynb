{
 "cells": [
  {
   "cell_type": "code",
   "execution_count": 10,
   "metadata": {},
   "outputs": [],
   "source": [
    "#download a public reference network and then upload it to my NDEx account\n",
    "\n",
    "import ndex2.client as nc\n",
    "import io\n",
    "import json\n",
    "#from IPython.display import HTML\n",
    "from time import sleep\n"
   ]
  },
  {
   "cell_type": "code",
   "execution_count": 11,
   "metadata": {},
   "outputs": [],
   "source": [
    "#create an NDEx client object to access my accouont on the NDEx server\n",
    "\n",
    "my_account=\"Jeffreyc\"\n",
    "my_password=\"Frenchfri3\"\n",
    "\n",
    "my_ndex=nc.Ndex2(\"http://public.ndexbio.org\", my_account, my_password)\n",
    "my_ndex.update_status()\n",
    "\n"
   ]
  },
  {
   "cell_type": "code",
   "execution_count": 12,
   "metadata": {},
   "outputs": [],
   "source": [
    "#the raw CX structure is obtained from the Response -- download the network \"DrugBank - Carrier drugs \"\n",
    "\n",
    "response=my_ndex.get_network_as_cx_stream('e17d2539-43b7-11e6-a5c7-06603eb7f303')\n",
    "#print(\"Received %s characters of CX\" % len(response.content))\n",
    "raw_cx = response.json()\n",
    "\n",
    "#giving the counts of nodes and edges, these codes are used for testing\n",
    "def getNumberOfNodesAndEdgesFromCX(cx):\n",
    "    numberOfEdges = numberOfNodes = 0;\n",
    "    for aspect in cx:\n",
    "        #print('key')\n",
    "        if 'nodes' in aspect:\n",
    "            numberOfNodes = len(aspect['nodes'])\n",
    "        if 'metaData' in aspect:\n",
    "            metaData = aspect['metaData']\n",
    "            for element in metaData:\n",
    "                if (('name' in element) and (element['name'] == 'nodes')):\n",
    "                    numberOfNodes = element.get('elementCount')\n",
    "                if (('name' in element) and (element['name'] == 'edges')):\n",
    "                    numberOfEdges = element.get('elementCount')\n",
    "            break\n",
    "    return numberOfNodes, numberOfEdges\n",
    "\n",
    "nodes, edges = getNumberOfNodesAndEdgesFromCX(raw_cx)\n",
    "#print(\"network contains %s nodes and %s edges.\" % (nodes, edges))"
   ]
  },
  {
   "cell_type": "code",
   "execution_count": 14,
   "metadata": {},
   "outputs": [
    {
     "name": "stdout",
     "output_type": "stream",
     "text": [
      "URI of the newly created network 3aae273b-1231-11e9-bb6a-0ac135e8bacf is http://public.ndexbio.org/v2/network/3aae273b-1231-11e9-bb6a-0ac135e8bacf\n"
     ]
    }
   ],
   "source": [
    "#upload the network to my NDEx account, the URI includes the network UUID\n",
    "\n",
    "uri = my_ndex.save_new_network(raw_cx)\n",
    "uuid = uri.rpartition('/')[-1]\n",
    "print(\"URI of the newly created network %s is %s\" % (uuid, uri))\n",
    "\n"
   ]
  },
  {
   "cell_type": "code",
   "execution_count": 31,
   "metadata": {},
   "outputs": [],
   "source": [
    "#update network profile\n",
    "\n",
    "network_profile={\"name\":\"Jeffrey First Network\", \"description\":\"New Description\", \"version\":\"2.0\"}\n",
    "my_ndex.update_network_profile(uuid, network_profile)    \n",
    "new_summary = my_ndex.get_network_summary(uuid)"
   ]
  },
  {
   "cell_type": "code",
   "execution_count": 16,
   "metadata": {},
   "outputs": [
    {
     "data": {
      "text/plain": [
       "''"
      ]
     },
     "execution_count": 16,
     "metadata": {},
     "output_type": "execute_result"
    }
   ],
   "source": [
    "#delete all the useless networks I own\n",
    "\n",
    "my_ndex.delete_network('3aae273b-1231-11e9-bb6a-0ac135e8bacf')\n"
   ]
  },
  {
   "cell_type": "code",
   "execution_count": null,
   "metadata": {},
   "outputs": [],
   "source": []
  }
 ],
 "metadata": {
  "kernelspec": {
   "display_name": "Python 3",
   "language": "python",
   "name": "python3"
  },
  "language_info": {
   "codemirror_mode": {
    "name": "ipython",
    "version": 3
   },
   "file_extension": ".py",
   "mimetype": "text/x-python",
   "name": "python",
   "nbconvert_exporter": "python",
   "pygments_lexer": "ipython3",
   "version": "3.7.0"
  }
 },
 "nbformat": 4,
 "nbformat_minor": 2
}
