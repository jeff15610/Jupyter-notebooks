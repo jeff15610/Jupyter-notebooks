{
 "cells": [
  {
   "cell_type": "code",
   "execution_count": 11,
   "metadata": {},
   "outputs": [
    {
     "name": "stdout",
     "output_type": "stream",
     "text": [
      "3 netwoks forund.\n",
      "\n",
      "Network uuids:\n",
      "\n",
      " c9243cce-2d32-11e8-b939-0ac135e8bacf\n",
      " 4197cc9c-c4a6-11e4-bcc4-000c29cb28fb\n",
      " 3bd76cf4-c4a1-11e4-bcc4-000c29cb28fb\n",
      "enter network uuid in NDEx networks\n",
      "c9243cce-2d32-11e8-b939-0ac135e8bacf\n",
      "Name: Metabolism of RNA\n",
      "Nodes: 276\n",
      "Edges: 17458\n",
      "Node Attributes: 551\n",
      "Edge Attributes: 0\n",
      "\n",
      "Name: Metabolism of RNA\n",
      "Nodes: 276\n",
      "Edges: 17458\n",
      "Node Attributes: 827\n",
      "Edge Attributes: 0\n",
      "\n",
      "http://public.ndexbio.org/v2/network/70b2af98-34c9-11e9-9f06-0ac135e8bacf\n"
     ]
    }
   ],
   "source": [
    "import ndex2.client as nc\n",
    "import io\n",
    "import json\n",
    "from IPython.display import HTML\n",
    "from time import sleep\n",
    "\n",
    "from ndex2.nice_cx_network import NiceCXNetwork\n",
    "import ndex2\n",
    "\n",
    "import random\n",
    "\n",
    "#create an NDEx client object to access my accouont on the NDEx server\n",
    "\n",
    "my_account=\"Jeffreyc\"\n",
    "my_password=\"Frenchfri3\"\n",
    "\n",
    "my_ndex=nc.Ndex2(\"http://public.ndexbio.org\", my_account, my_password)\n",
    "my_ndex.update_status()\n",
    "\n",
    "#find networks by search keyword \"tutorial\" and return uuid\n",
    "list_tutorial_networks=my_ndex.search_networks('tutorial')\n",
    "print(\"%s netwoks forund.\" % (len(list_tutorial_networks)))\n",
    "print (\"\\nNetwork uuids:\\n\")\n",
    "for ns in list_tutorial_networks.get('networks'): print( \" %s\" % ns.get('externalId'))\n",
    "    \n",
    "# create a NiceCX network \"tutorial_nice_cx_from_server\" from NDEx networks, in order to add attribute on the nodes\n",
    "print ('enter network uuid in NDEx networks')\n",
    "x = input()\n",
    "tutorial_nice_cx_from_server = ndex2.create_nice_cx_from_server(server='http://public.ndexbio.org', uuid=x)\n",
    "\n",
    "#check the number of attributes of nodes before adding 'Score'\n",
    "tutorial_nice_cx_from_server.print_summary()\n",
    "\n",
    "#create a loop to go through all the nodes in the network \n",
    "#check if a 'Score' attribute is already existing in each node.\n",
    "#add attribute \"Score\" to each node with a random value from 1 to 10\n",
    "\n",
    "for id, node in tutorial_nice_cx_from_server.get_nodes() :\n",
    "       if tutorial_nice_cx_from_server.get_node_attribute(id, 'Score') == None:         \n",
    "              v = random.randint(1,10)\n",
    "              tutorial_nice_cx_from_server.add_node_attribute(id, name='Score', values=v)\n",
    "        \n",
    "#check the number of attributes of nodes after adding 'Score'\n",
    "tutorial_nice_cx_from_server.print_summary()\n",
    "\n",
    "#upload the updated NDEx network to my account\n",
    "uri_upload_message = tutorial_nice_cx_from_server.upload_to(\"http://public.ndexbio.org\", my_account, my_password)\n",
    "print(uri_upload_message)\n",
    "\n"
   ]
  },
  {
   "cell_type": "code",
   "execution_count": null,
   "metadata": {},
   "outputs": [],
   "source": [
    "#!pip uninstall ndex2 -y\n",
    "#!pip install ndex2 --no-cache-dir"
   ]
  },
  {
   "cell_type": "code",
   "execution_count": 14,
   "metadata": {},
   "outputs": [
    {
     "name": "stdout",
     "output_type": "stream",
     "text": [
      "Query result network contains 26 nodes and 314 edges.\n",
      "d31c78fd-34c9-11e9-9f06-0ac135e8bacf http://public.ndexbio.org/v2/network/d31c78fd-34c9-11e9-9f06-0ac135e8bacf\n",
      "New network has been validated by the server.\n",
      "\n"
     ]
    },
    {
     "data": {
      "text/plain": [
       "''"
      ]
     },
     "execution_count": 14,
     "metadata": {},
     "output_type": "execute_result"
    }
   ],
   "source": [
    "#search my account and find the network I added attribute \"Score\"\n",
    "uuid = uri_upload_message.rpartition('/')[-1]\n",
    "\n",
    "#delete all the previous networks I own\n",
    "#list_uuid = my_ndex.get_network_ids_for_user(\"Jeffreyc\")\n",
    "#indexval = 0\n",
    "#for i in range(len(list_uuid)):\n",
    "#    if (list_uuid[indexval] != uuid):\n",
    "#        my_ndex.delete_network(list_uuid[indexval])\n",
    "#    indexval += 1\n",
    "    \n",
    "    \n",
    "# Query the network from my NDEx account, get small subset with about 20-100 edges\n",
    "# NDEx client object can query a subset, NiceCXNetwork object cannot query a subset?\n",
    "\n",
    "#Experiment until get on with about 20-100 edges\n",
    "query_result_cx=my_ndex.get_neighborhood(x, 'XRN1')\n",
    "#query_result_cx=my_ndex.get_neighborhood(uuid, 'XPO1')\n",
    "                                       \n",
    "for aspect in query_result_cx:\n",
    "    if 'nodes' in aspect:\n",
    "        number_of_nodes = len(aspect['nodes'])\n",
    "    if 'edges' in aspect:\n",
    "        number_of_edges = len(aspect['edges'])\n",
    "\n",
    "print(\"Query result network contains %s nodes and %s edges.\" % (number_of_nodes, number_of_edges))\n",
    "\n",
    "#Save the subset to my account\n",
    "uri_subset = my_ndex.save_new_network(query_result_cx)\n",
    "uuid_subset = uri_subset.rpartition('/')[-1]\n",
    "\n",
    "print (uuid_subset,uri_subset)\n",
    "\n",
    "#new_summary = my_ndex.get_network_summary(uuid_subset)\n",
    " \n",
    "if new_summary.get(\"isValid\"):\n",
    "        print(\"New network has been validated by the server.\\n\")\n",
    "       # print (new_summary)\n",
    "else:\n",
    "    print(\"failed\\n\")\n",
    "    #print (new_summary)\n",
    "\n",
    "\n",
    "#update network profile\n",
    "network_profile={\"name\":\"Jeffrey subset Network\", \"description\":\"a small subset about 20-100 edges\", \"version\":\"2.0\"}\n",
    "my_ndex.update_network_profile(uuid_subset, network_profile)    \n",
    "my_ndex.make_network_public(uuid_subset)\n"
   ]
  },
  {
   "cell_type": "code",
   "execution_count": 13,
   "metadata": {},
   "outputs": [
    {
     "data": {
      "text/html": [
       "<table><tr><td>ownerUUID</td><td>4fa21fc0-121c-11e9-bb6a-0ac135e8bacf</td></tr><tr><td>isReadOnly</td><td>False</td></tr><tr><td>subnetworkIds</td><td>[]</td></tr><tr><td>isValid</td><td>True</td></tr><tr><td>warnings</td><td></td></tr><tr><td>isShowcase</td><td>False</td></tr><tr><td>isCertified</td><td>False</td></tr><tr><td>indexLevel</td><td>NONE</td></tr><tr><td>hasLayout</td><td>False</td></tr><tr><td>hasSample</td><td>False</td></tr><tr><td>visibility</td><td>PUBLIC</td></tr><tr><td>nodeCount</td><td>26</td></tr><tr><td>completed</td><td>True</td></tr><tr><td>edgeCount</td><td>362</td></tr><tr><td>version</td><td>2.0</td></tr><tr><td>owner</td><td>jeffreyc</td></tr><tr><td>description</td><td>a small subset about 20-100 edges</td></tr><tr><td>name</td><td>Jeffrey subset Network</td></tr><tr><td>properties</td><td><table><tr><td>ndex:sourceFormat</td><td>SIF</td></tr><tr><td>prov:wasDerivedFrom</td><td>c9243cce-2d32-11e8-b939-0ac135e8bacf</td></tr><tr><td>prov:wasGeneratedBy</td><td>NDEx Neighborhood Query/v1.1 (Depth=1; Query terms=\"XRN1\")</td></tr></table></td></tr><tr><td>externalId</td><td>72d2343b-34c9-11e9-9f06-0ac135e8bacf</td></tr><tr><td>isDeleted</td><td>False</td></tr><tr><td>modificationTime</td><td>1550637543194</td></tr><tr><td>creationTime</td><td>1550637543096</td></tr></table>"
      ],
      "text/plain": [
       "<IPython.core.display.HTML object>"
      ]
     },
     "execution_count": 13,
     "metadata": {},
     "output_type": "execute_result"
    }
   ],
   "source": [
    "#get subset network information \n",
    "ns=my_ndex.get_network_summary(uuid_subset)\n",
    "def summary2table(object):\n",
    "    table = \"<table>\"\n",
    "    for key, value in object.items():\n",
    "        if key == \"warnings\":\n",
    "            warning_list = \"\"\n",
    "            for warning in value:\n",
    "                warning_list += \"%s<br>\" % warning\n",
    "            value = warning_list\n",
    "        if key == \"properties\":\n",
    "            property_table = \"<table>\"\n",
    "            for property in value:\n",
    "                property_table += \"<tr>\"\n",
    "                property_table += \"<td>%s</td><td>%s</td>\" % (property.get(\"predicateString\"), property.get(\"value\"))\n",
    "                property_table += \"</tr>\"\n",
    "            property_table += \"</table>\"\n",
    "            value = property_table\n",
    "        table += \"<tr>\"\n",
    "        table += \"<td>%s</td><td>%s</td>\" % (key, value)\n",
    "        table += \"</tr>\"\n",
    "    table += \"</table>\"\n",
    "    return table\n",
    "\n",
    "HTML(summary2table(ns))"
   ]
  },
  {
   "cell_type": "code",
   "execution_count": null,
   "metadata": {},
   "outputs": [],
   "source": []
  }
 ],
 "metadata": {
  "kernelspec": {
   "display_name": "Python 3",
   "language": "python",
   "name": "python3"
  },
  "language_info": {
   "codemirror_mode": {
    "name": "ipython",
    "version": 3
   },
   "file_extension": ".py",
   "mimetype": "text/x-python",
   "name": "python",
   "nbconvert_exporter": "python",
   "pygments_lexer": "ipython3",
   "version": "3.7.0"
  }
 },
 "nbformat": 4,
 "nbformat_minor": 2
}
