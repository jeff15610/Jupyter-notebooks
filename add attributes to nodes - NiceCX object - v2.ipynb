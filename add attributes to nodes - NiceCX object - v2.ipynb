{
 "cells": [
  {
   "cell_type": "code",
   "execution_count": 3,
   "metadata": {
    "scrolled": true
   },
   "outputs": [
    {
     "name": "stdout",
     "output_type": "stream",
     "text": [
      "3 netwoks forund.\n",
      "\n",
      "Network uuids:\n",
      "\n",
      " c9243cce-2d32-11e8-b939-0ac135e8bacf\n",
      " 4197cc9c-c4a6-11e4-bcc4-000c29cb28fb\n",
      " 3bd76cf4-c4a1-11e4-bcc4-000c29cb28fb\n",
      "enter network uuid in NDEx networks\n",
      "4197cc9c-c4a6-11e4-bcc4-000c29cb28fb\n",
      "Name: Metabolism of proteins\n",
      "Nodes: 3437\n",
      "Edges: 53585\n",
      "Node Attributes: 3388\n",
      "Edge Attributes: 0\n",
      "\n",
      "Name: Metabolism of proteins\n",
      "Nodes: 3437\n",
      "Edges: 53585\n",
      "Node Attributes: 6825\n",
      "Edge Attributes: 0\n",
      "\n",
      "http://public.ndexbio.org/v2/network/66d7ec2e-1f1d-11e9-bb6a-0ac135e8bacf\n"
     ]
    }
   ],
   "source": [
    "import ndex2.client as nc\n",
    "import io\n",
    "import json\n",
    "from IPython.display import HTML\n",
    "from time import sleep\n",
    "\n",
    "from ndex2.nice_cx_network import NiceCXNetwork\n",
    "import ndex2\n",
    "\n",
    "import random\n",
    "\n",
    "#create an NDEx client object to access my accouont on the NDEx server\n",
    "my_account=\"Jeffreyc\"\n",
    "my_password=\"Frenchfri3\"\n",
    "\n",
    "my_ndex=nc.Ndex2(\"http://public.ndexbio.org\", my_account, my_password)\n",
    "my_ndex.update_status()\n",
    "\n",
    "#find networks by search keyword \"tutorial\" and return uuid\n",
    "list_tutorial_networks=my_ndex.search_networks('tutorial')\n",
    "print(\"%s netwoks forund.\" % (len(list_tutorial_networks)))\n",
    "print (\"\\nNetwork uuids:\\n\")\n",
    "for ns in list_tutorial_networks.get('networks'): print( \" %s\" % ns.get('externalId'))\n",
    "    \n",
    "# create a NiceCX network \"tutorial_nice_cx_from_server\" from NDEx networks\n",
    "print ('enter network uuid in NDEx networks')\n",
    "x = input()\n",
    "tutorial_nice_cx_from_server = ndex2.create_nice_cx_from_server(server='http://public.ndexbio.org', uuid=x)\n",
    "\n",
    "#check the number of attributes of nodes before adding 'Score'\n",
    "tutorial_nice_cx_from_server.print_summary()\n",
    "\n",
    "#create a loop to go through all the nodes in the network \n",
    "#check if a 'Score' attribute is already existing in each node.\n",
    "#add attribute \"Score\" to each node with a random value from 1 to 10\n",
    "\n",
    "for id, node in tutorial_nice_cx_from_server.get_nodes() :\n",
    "       if tutorial_nice_cx_from_server.get_node_attribute(id, 'Score') == None:         \n",
    "              v = random.randint(1,10)\n",
    "              tutorial_nice_cx_from_server.add_node_attribute(id, name='Score', values=v)\n",
    "        \n",
    "#check the number of attributes of nodes after adding 'Score'\n",
    "tutorial_nice_cx_from_server.print_summary()\n",
    "\n",
    "#upload the updated NDEx network to my account\n",
    "uri_upload_message = tutorial_nice_cx_from_server.upload_to(\"http://public.ndexbio.org\", my_account, my_password)\n",
    "print(uri_upload_message)\n",
    "\n",
    "\n"
   ]
  },
  {
   "cell_type": "code",
   "execution_count": 4,
   "metadata": {},
   "outputs": [
    {
     "name": "stdout",
     "output_type": "stream",
     "text": [
      "66d7ec2e-1f1d-11e9-bb6a-0ac135e8bacf\n"
     ]
    }
   ],
   "source": [
    "#update network profile\n",
    "uuid = uri_upload_message.rpartition('/')[-1]\n",
    "network_profile={\"name\":\"Jeffrey First Assignment\", \"description\":\"create and upload a NiceCX network from NDEx network\", \"version\":\"2.0\"}\n",
    "my_ndex.update_network_profile(uuid, network_profile)    \n",
    "print(uuid)"
   ]
  },
  {
   "cell_type": "code",
   "execution_count": null,
   "metadata": {},
   "outputs": [],
   "source": []
  }
 ],
 "metadata": {
  "kernelspec": {
   "display_name": "Python 3",
   "language": "python",
   "name": "python3"
  },
  "language_info": {
   "codemirror_mode": {
    "name": "ipython",
    "version": 3
   },
   "file_extension": ".py",
   "mimetype": "text/x-python",
   "name": "python",
   "nbconvert_exporter": "python",
   "pygments_lexer": "ipython3",
   "version": "3.7.0"
  }
 },
 "nbformat": 4,
 "nbformat_minor": 2
}
