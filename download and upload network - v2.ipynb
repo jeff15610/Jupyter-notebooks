{
 "cells": [
  {
   "cell_type": "code",
   "execution_count": 1,
   "metadata": {},
   "outputs": [
    {
     "name": "stdout",
     "output_type": "stream",
     "text": [
      "URI of the newly created network ca19e304-1248-11e9-bb6a-0ac135e8bacf is http://public.ndexbio.org/v2/network/ca19e304-1248-11e9-bb6a-0ac135e8bacf\n"
     ]
    }
   ],
   "source": [
    "#download a public reference network and then upload it to my NDEx account\n",
    "\n",
    "import ndex2.client as nc\n",
    "import io\n",
    "import json\n",
    "from time import sleep\n",
    "\n",
    "#create an NDEx client object to access my accouont on the NDEx server\n",
    "\n",
    "my_account=\"Jeffreyc\"\n",
    "my_password=\"Frenchfri3\"\n",
    "\n",
    "my_ndex=nc.Ndex2(\"http://public.ndexbio.org\", my_account, my_password)\n",
    "my_ndex.update_status()\n",
    "\n",
    "# download the network \"DrugBank - Carrier drugs \" --the raw CX structure is obtained from the Response \n",
    "\n",
    "response=my_ndex.get_network_as_cx_stream('e17d2539-43b7-11e6-a5c7-06603eb7f303')\n",
    "\n",
    "raw_cx = response.json()\n",
    "\n",
    "#upload the network to my NDEx account, the URI includes the network UUID\n",
    "\n",
    "uri = my_ndex.save_new_network(raw_cx)\n",
    "uuid = uri.rpartition('/')[-1]\n",
    "\n",
    "#update network profile\n",
    "\n",
    "network_profile={\"name\":\"Jeffrey First Network\", \"description\":\"New Desciption\", \"version\":\"2.0\"}\n",
    "my_ndex.update_network_profile(uuid, network_profile)    \n",
    "new_summary = my_ndex.get_network_summary(uuid)\n",
    "\n",
    "\n",
    "#delete all the useless networks I own\n",
    "\n",
    "list_uuid = my_ndex.get_network_ids_for_user(\"Jeffreyc\")\n",
    "\n",
    "indexval = 0\n",
    "for i in range(len(list_uuid)):\n",
    "    if (list_uuid[indexval] != uuid):\n",
    "        my_ndex.delete_network(list_uuid[indexval])        \n",
    "    else:\n",
    "        print(\"URI of the newly created network %s is %s\" % (uuid, uri))\n",
    "    indexval += 1"
   ]
  },
  {
   "cell_type": "code",
   "execution_count": null,
   "metadata": {},
   "outputs": [],
   "source": []
  }
 ],
 "metadata": {
  "kernelspec": {
   "display_name": "Python 3",
   "language": "python",
   "name": "python3"
  },
  "language_info": {
   "codemirror_mode": {
    "name": "ipython",
    "version": 3
   },
   "file_extension": ".py",
   "mimetype": "text/x-python",
   "name": "python",
   "nbconvert_exporter": "python",
   "pygments_lexer": "ipython3",
   "version": "3.7.0"
  }
 },
 "nbformat": 4,
 "nbformat_minor": 2
}
