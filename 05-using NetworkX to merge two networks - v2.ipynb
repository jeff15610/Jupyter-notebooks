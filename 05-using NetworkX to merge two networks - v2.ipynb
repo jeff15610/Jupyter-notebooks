{
 "cells": [
  {
   "cell_type": "code",
   "execution_count": null,
   "metadata": {},
   "outputs": [],
   "source": [
    "#let’s merge this network: http://doi.org/10.18119/N91597\n",
    "#with this other one: http://www.ndexbio.org/#/network/1c69beff-1229-11e6-a039-06603eb7f303\n",
    "#or http://www.ndexbio.org/#/network/89975ebb-6294-11e7-a03e-0ac135e8bacf\n",
    "\n",
    "#Merge them to make a new network in which nodes that have the same name are combined.\n",
    "\n",
    "#If there is node 1 in network 1 that has the same name as node 2 in network 2, \n",
    "#the new network should have just one node of that name that has all the attributes from node 1 AND node 2.\n",
    "\n",
    "#As you do the merge, each node should be given an additional attribute “fromNetwork” so we can tell which network it originally came from. Values can be “network1”, “network2” or “both”\n",
    "\n",
    "#Save to ndex\n",
    "\n",
    "#Use Cytoscape to give it a graphic style in which the nodes are colored based on “fromNetwork”"
   ]
  },
  {
   "cell_type": "code",
   "execution_count": 1,
   "metadata": {
    "scrolled": true
   },
   "outputs": [],
   "source": [
    "import ndex2.client as nc\n",
    "import io\n",
    "import json\n",
    "from time import sleep\n",
    "\n",
    "from ndex2.nice_cx_network import NiceCXNetwork\n",
    "import ndex2\n",
    "\n",
    "import networkx as nx\n",
    "\n",
    "import pandas as pd \n",
    "import numpy as np\n",
    "\n",
    "#create a NDEx client object to access my accouont on the NDEx server\n",
    "my_account=\"Jeffreyc\"\n",
    "my_password=\"Frenchfri3\"\n",
    "\n",
    "my_ndex=nc.Ndex2(\"http://public.ndexbio.org\", my_account, my_password)\n",
    "my_ndex.update_status()\n"
   ]
  },
  {
   "cell_type": "code",
   "execution_count": 2,
   "metadata": {},
   "outputs": [
    {
     "name": "stdout",
     "output_type": "stream",
     "text": [
      "chose merge network: http://doi.org/10.18119/N91597 with 1 or 2:\n",
      "1\n",
      "merge network with http://www.ndexbio.org/#/network/1c69beff-1229-11e6-a039-06603eb7f303\n",
      "Name: BioPlex 2.0 ( ~ 56,000 interactions )\n",
      "Nodes: 10961\n",
      "Edges: 56553\n",
      "Node Attributes: 10961\n",
      "Edge Attributes: 169659\n",
      "\n",
      "\n",
      "\n",
      "Name: ChEMBL - High Affinity Compounds vs human targets (Commercially available)\n",
      "Nodes: 3633\n",
      "Edges: 11564\n",
      "Node Attributes: 13275\n",
      "Edge Attributes: 53075\n",
      "\n"
     ]
    }
   ],
   "source": [
    "#get NiceCX objects in order to add attribute\n",
    "#network1 is http://doi.org/10.18119/N91597\n",
    "#network2 is chosen between 1c69beff-1229-11e6-a039-06603eb7f303 and 89975ebb-6294-11e7-a03e-0ac135e8bacf\n",
    "print (\"chose merge network: http://doi.org/10.18119/N91597 with 1 or 2:\")\n",
    "x = input()\n",
    "x = int(x) \n",
    "\n",
    "uuid_1 = '98ba6a19-586e-11e7-8f50-0ac135e8bacf'\n",
    "\n",
    "if (x == 1):\n",
    "    uuid_2 = '1c69beff-1229-11e6-a039-06603eb7f303'\n",
    "    print (\"merge network with http://www.ndexbio.org/#/network/1c69beff-1229-11e6-a039-06603eb7f303\")\n",
    "else:\n",
    "    if (x == 2):\n",
    "        uuid_2 = '89975ebb-6294-11e7-a03e-0ac135e8bacf'\n",
    "        print (\"merge network with http://www.ndexbio.org/#/network/89975ebb-6294-11e7-a03e-0ac135e8bacf\")\n",
    "    else:\n",
    "        uuid_2 = '1c69beff-1229-11e6-a039-06603eb7f303'\n",
    "        print (\"default is 1. merge network with http://www.ndexbio.org/#/network/1c69beff-1229-11e6-a039-06603eb7f303\")\n",
    "\n",
    "NiceCX_network_1 = ndex2.create_nice_cx_from_server(server='http://public.ndexbio.org',  uuid = uuid_1)\n",
    "NiceCX_network_2 = ndex2.create_nice_cx_from_server(server='http://public.ndexbio.org',  uuid = uuid_2)\n",
    "\n",
    "NiceCX_network_1.print_summary()\n",
    "print (\"\\n\")\n",
    "NiceCX_network_2.print_summary()"
   ]
  },
  {
   "cell_type": "code",
   "execution_count": 3,
   "metadata": {},
   "outputs": [
    {
     "name": "stdout",
     "output_type": "stream",
     "text": [
      "number of nodes in network1:  10961\n",
      "number of nodes in network2:  3633\n"
     ]
    }
   ],
   "source": [
    "#add attribute \"fromNetwork\" to each node in NiceCX_network_1\n",
    "for node_id, node in NiceCX_network_1.get_nodes() :\n",
    "    NiceCX_network_1.add_node_attribute(node_id, name='fromNetwork', values='network1')\n",
    "        \n",
    "#add attribute \"fromNetwork\" to each node in NiceCX_network_2\n",
    "for node_id, node in NiceCX_network_2.get_nodes() :\n",
    "    NiceCX_network_2.add_node_attribute(node_id, name='fromNetwork', values='network2')\n",
    "\n",
    "network_1_node_number = len(list(NiceCX_network_1.nodes))\n",
    "network_2_node_number = len(list(NiceCX_network_2.nodes))\n",
    "\n",
    "print(\"number of nodes in network1: \", network_1_node_number)\n",
    "print(\"number of nodes in network2: \", network_2_node_number)"
   ]
  },
  {
   "cell_type": "code",
   "execution_count": 4,
   "metadata": {},
   "outputs": [],
   "source": [
    "#convert NiceCX network to NetworkX object \n",
    "NetworkX_network_1 = NiceCX_network_1.to_networkx()\n",
    "NetworkX_network_2 = NiceCX_network_2.to_networkx()"
   ]
  },
  {
   "cell_type": "code",
   "execution_count": 6,
   "metadata": {
    "scrolled": true
   },
   "outputs": [
    {
     "name": "stdout",
     "output_type": "stream",
     "text": [
      "10961\n"
     ]
    }
   ],
   "source": [
    "#get the first node data in network1, in order to get the list of attributes\n",
    "# list(NetworkX_network_1.nodes(data=True)) -- get all the node data along with the nodes; output is an array\n",
    "# list(NetworkX_network_1.nodes(data=True))[0] -- get the first node data; output is an array \n",
    "# list(NetworkX_network_1.nodes(data=True))[0][1] -- get the node attributes with value; out put is a dictionary\n",
    "# list(NetworkX_network_1.nodes(data=True))[0][0] -- get the node name\n",
    "\n",
    "# create an array to have all the network_1 node name\n",
    "network_1_name_list = []\n",
    "\n",
    "for i in range (network_1_node_number):\n",
    "    network_1_name_list.append(list(NetworkX_network_1.nodes(data=True))[i][0] )\n",
    "    \n",
    "#showing the name list is completed\n",
    "print(network_1_node_number) "
   ]
  },
  {
   "cell_type": "code",
   "execution_count": 7,
   "metadata": {},
   "outputs": [
    {
     "name": "stdout",
     "output_type": "stream",
     "text": [
      "3633\n"
     ]
    }
   ],
   "source": [
    "# create an array to have all the network_2 node names\n",
    "network_2_name_list = []\n",
    "\n",
    "for j in range(network_2_node_number):\n",
    "    network_2_name_list.append(list(NetworkX_network_2.nodes(data=True))[j][0] )\n",
    "    \n",
    "# showing the complete name list\n",
    "print(network_2_node_number)   "
   ]
  },
  {
   "cell_type": "code",
   "execution_count": 8,
   "metadata": {},
   "outputs": [
    {
     "name": "stdout",
     "output_type": "stream",
     "text": [
      "number of same node names in the two networks:  8 \n",
      "\n",
      "CAMK2B\n",
      "CAMK2A\n",
      "GRPR\n",
      "EDNRB\n",
      "PAK1\n",
      "EDNRA\n",
      "SRC\n",
      "ADAM17\n"
     ]
    }
   ],
   "source": [
    "# compare two arrays and find the same node names, create a list to keep the set\n",
    "same_node_name_list = set(network_1_name_list) & set(network_2_name_list)  \n",
    "\n",
    "number_of_same_node =len(same_node_name_list)\n",
    "print (\"number of same node names in the two networks: \", number_of_same_node, \"\\n\")\n",
    "\n",
    "for k in range (number_of_same_node):\n",
    "    print(list(same_node_name_list)[k])"
   ]
  },
  {
   "cell_type": "code",
   "execution_count": 9,
   "metadata": {
    "scrolled": true
   },
   "outputs": [
    {
     "name": "stdout",
     "output_type": "stream",
     "text": [
      "CAMK2B   {'po': 1367, 'n': 'fromNetwork', 'v': 'both'}\n",
      "CAMK2A   {'po': 996, 'n': 'fromNetwork', 'v': 'both'}\n",
      "GRPR   {'po': 85, 'n': 'fromNetwork', 'v': 'both'}\n",
      "EDNRB   {'po': 950, 'n': 'fromNetwork', 'v': 'both'}\n",
      "PAK1   {'po': 2102, 'n': 'fromNetwork', 'v': 'both'}\n",
      "EDNRA   {'po': 68, 'n': 'fromNetwork', 'v': 'both'}\n",
      "SRC   {'po': 507, 'n': 'fromNetwork', 'v': 'both'}\n",
      "ADAM17   {'po': 1017, 'n': 'fromNetwork', 'v': 'both'}\n"
     ]
    }
   ],
   "source": [
    "#for the nodes from both networks, change the value of attribute \"fromNetwork\" to \"both\"\n",
    "\n",
    "# a loop goes though all the duplicate nodes\n",
    "for k in range (number_of_same_node):\n",
    "    this_node_name = list(same_node_name_list)[k]    \n",
    "\n",
    "    for id, node in NiceCX_network_2.get_nodes():\n",
    "        # get this node's name\n",
    "        node_name = node.get('n') \n",
    "        \n",
    "        if node_name == this_node_name:    \n",
    "            NiceCX_network_2.remove_node_attribute(id, 'fromNetwork')\n",
    "            NiceCX_network_2.add_node_attribute(id, name='fromNetwork', values='both')\n",
    "\n",
    "            print (node_name, \" \",NiceCX_network_2.get_node_attribute(id, 'fromNetwork'))\n",
    "\n",
    "# convert the updated NiceCX network to NetworkX\n",
    "NetworkX_network_2 = NiceCX_network_2.to_networkx()"
   ]
  },
  {
   "cell_type": "code",
   "execution_count": 10,
   "metadata": {},
   "outputs": [
    {
     "name": "stdout",
     "output_type": "stream",
     "text": [
      "done\n"
     ]
    }
   ],
   "source": [
    "# create a new NetworkX object in order to combine network1 and network2\n",
    "NetworkX_combined = nx.Graph()\n",
    "\n",
    "#to add nodes along with node attributes, should contain (data=True)\n",
    "#attributes of the node in the combined network are depending on the order of join\n",
    "NetworkX_combined.add_nodes_from(NetworkX_network_1.nodes(data=True))\n",
    "NetworkX_combined.add_nodes_from(NetworkX_network_2.nodes(data=True))\n",
    "NetworkX_combined.add_edges_from(NetworkX_network_1.edges(data=True))\n",
    "NetworkX_combined.add_edges_from(NetworkX_network_2.edges(data=True))\n",
    "\n",
    "print (\"done\")"
   ]
  },
  {
   "cell_type": "code",
   "execution_count": 11,
   "metadata": {
    "scrolled": true
   },
   "outputs": [
    {
     "name": "stdout",
     "output_type": "stream",
     "text": [
      "Name: Untitled\n",
      "Nodes: 14586\n",
      "Edges: 61055\n",
      "Node Attributes: 53408\n",
      "Edge Attributes: 191114\n",
      "\n"
     ]
    }
   ],
   "source": [
    "#convert NetworkX object to NiceCX object\n",
    "NiceCX_combined = ndex2.create_nice_cx_from_networkx(NetworkX_combined)\n",
    "NiceCX_combined.print_summary()"
   ]
  },
  {
   "cell_type": "code",
   "execution_count": 12,
   "metadata": {},
   "outputs": [
    {
     "name": "stdout",
     "output_type": "stream",
     "text": [
      "Generating CX\n",
      "http://public.ndexbio.org/v2/network/d6a91639-90b0-11e9-bcaf-0ac135e8bacf\n"
     ]
    }
   ],
   "source": [
    "#upload the combined network to my account\n",
    "uri_upload_message = NiceCX_combined.upload_to(\"http://public.ndexbio.org\", my_account, my_password)\n",
    "print(uri_upload_message)"
   ]
  },
  {
   "cell_type": "code",
   "execution_count": 13,
   "metadata": {
    "scrolled": true
   },
   "outputs": [
    {
     "data": {
      "text/plain": [
       "''"
      ]
     },
     "execution_count": 13,
     "metadata": {},
     "output_type": "execute_result"
    }
   ],
   "source": [
    "#update the network profile\n",
    "uuid = uri_upload_message.rpartition('/')[-1]\n",
    "\n",
    "new_profile={\"name\":\"combined 2 networks using NetworkX\", \"description\":\"Merge 2 networks to make a new network in which nodes that have the same name are combined.\", \"version\":\"4.0\"}\n",
    "my_ndex.update_network_profile(uuid, new_profile)    \n",
    "my_ndex.make_network_public(uuid)\n"
   ]
  },
  {
   "cell_type": "code",
   "execution_count": null,
   "metadata": {},
   "outputs": [],
   "source": []
  }
 ],
 "metadata": {
  "kernelspec": {
   "display_name": "Python 3",
   "language": "python",
   "name": "python3"
  },
  "language_info": {
   "codemirror_mode": {
    "name": "ipython",
    "version": 3
   },
   "file_extension": ".py",
   "mimetype": "text/x-python",
   "name": "python",
   "nbconvert_exporter": "python",
   "pygments_lexer": "ipython3",
   "version": "3.7.1"
  }
 },
 "nbformat": 4,
 "nbformat_minor": 2
}
