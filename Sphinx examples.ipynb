{
 "cells": [
  {
   "cell_type": "markdown",
   "metadata": {},
   "source": [
    "# NDEx2 Client Objects"
   ]
  },
  {
   "cell_type": "markdown",
   "metadata": {},
   "source": [
    "#### Modules Required for NDEx2 Client Tutorial"
   ]
  },
  {
   "cell_type": "code",
   "execution_count": null,
   "metadata": {},
   "outputs": [],
   "source": [
    "import ndex2.client as nc\n",
    "import io\n",
    "import json\n",
    "from IPython.display import HTML\n",
    "#from time import sleep"
   ]
  },
  {
   "cell_type": "markdown",
   "metadata": {},
   "source": [
    "#### access an NDEx server anonymously"
   ]
  },
  {
   "cell_type": "code",
   "execution_count": null,
   "metadata": {},
   "outputs": [],
   "source": [
    "anon_ndex=nc.Ndex2(\"http://public.ndexbio.org\")"
   ]
  },
  {
   "cell_type": "markdown",
   "metadata": {},
   "source": [
    "#### A client object using a specific user account"
   ]
  },
  {
   "cell_type": "code",
   "execution_count": null,
   "metadata": {},
   "outputs": [],
   "source": [
    "my_account=\"my account\"\n",
    "my_password=\"my password\""
   ]
  },
  {
   "cell_type": "markdown",
   "metadata": {},
   "source": [
    "#### update_status()"
   ]
  },
  {
   "cell_type": "code",
   "execution_count": null,
   "metadata": {},
   "outputs": [],
   "source": [
    "if my_account == \"my account\":\n",
    "    print('Please enter your username before proceeding')\n",
    "    my_account = input()\n",
    "if my_password==\"my password\":\n",
    "    print('Please enter your password before proceeding')\n",
    "    my_password = input()\n",
    "\n",
    "try:\n",
    "    my_ndex=nc.Ndex2(\"http://public.ndexbio.org\", my_account, my_password)\n",
    "    my_ndex.update_status()\n",
    "    networks = my_ndex.status.get(\"networkCount\")\n",
    "    users = my_ndex.status.get(\"userCount\")\n",
    "    groups = my_ndex.status.get(\"groupCount\")\n",
    "    print(\"my_ndex client: %s networks, %s users, %s groups\" % (networks, users, groups))\n",
    "except Exception as inst:\n",
    "    print(\"Could not access account %s with password %s\" % (my_account, my_password))\n",
    "    print(inst.args)"
   ]
  },
  {
   "cell_type": "markdown",
   "metadata": {},
   "source": [
    "#### get_user_by_username(username)"
   ]
  },
  {
   "cell_type": "code",
   "execution_count": null,
   "metadata": {},
   "outputs": [],
   "source": [
    "my_ndex.get_user_by_username(\"Jeffreyc\")"
   ]
  },
  {
   "cell_type": "markdown",
   "metadata": {},
   "source": [
    "#### find_networks(search_string=”“, account_name=None, start=0, size=100)"
   ]
  },
  {
   "cell_type": "code",
   "execution_count": null,
   "metadata": {},
   "outputs": [],
   "source": [
    "#This method is deprecated; search_networks should be used instead."
   ]
  },
  {
   "cell_type": "markdown",
   "metadata": {},
   "source": [
    "#### search_networks(search_string=”“, account_name=None, start=0, size=100, include_groups=False)"
   ]
  },
  {
   "cell_type": "code",
   "execution_count": null,
   "metadata": {},
   "outputs": [],
   "source": [
    "list_tutorial_networks=my_ndex.search_networks('tutorial')\n",
    "print(\"%s netwoks found.\" % (len(list_tutorial_networks)))\n",
    "print (\"\\nNetwork names and uuids:\\n\")\n",
    "for i in list_tutorial_networks.get('networks'): \n",
    "    print( \"%s -->> %s\" % (i.get('name'), i.get('externalId')))"
   ]
  },
  {
   "cell_type": "markdown",
   "metadata": {},
   "source": [
    "#### get_network_summary(network_id)"
   ]
  },
  {
   "cell_type": "code",
   "execution_count": null,
   "metadata": {},
   "outputs": [],
   "source": [
    "ns=my_ndex.get_network_summary('c9243cce-2d32-11e8-b939-0ac135e8bacf')\n",
    "def summary2table(object):\n",
    "    table = \"<table>\"\n",
    "    for key, value in object.items():\n",
    "        if key == \"warnings\":\n",
    "            warning_list = \"\"\n",
    "            for warning in value:\n",
    "                warning_list += \"%s<br>\" % warning\n",
    "            value = warning_list\n",
    "        if key == \"properties\":\n",
    "            property_table = \"<table>\"\n",
    "            for property in value:\n",
    "                property_table += \"<tr>\"\n",
    "                property_table += \"<td>%s</td><td>%s</td>\" % (property.get(\"predicateString\"), property.get(\"value\"))\n",
    "                property_table += \"</tr>\"\n",
    "            property_table += \"</table>\"\n",
    "            value = property_table\n",
    "        table += \"<tr>\"\n",
    "        table += \"<td>%s</td><td>%s</td>\" % (key, value)\n",
    "        table += \"</tr>\"\n",
    "    table += \"</table>\"\n",
    "    return table\n",
    "\n",
    "HTML(summary2table(ns))"
   ]
  },
  {
   "cell_type": "markdown",
   "metadata": {},
   "source": [
    "#### get_network_as_cx_stream(network_id)"
   ]
  },
  {
   "cell_type": "code",
   "execution_count": null,
   "metadata": {
    "scrolled": true
   },
   "outputs": [],
   "source": [
    "response=my_ndex.get_network_as_cx_stream('c9243cce-2d32-11e8-b939-0ac135e8bacf')\n",
    "raw_cx = response.json()\n",
    "\n",
    "\n",
    "#the code below copied for the v2.0 Tutorial. I don't understand well\n",
    "print(\"Received %s characters of CX\" % len(response.content))\n",
    "def getNumberOfNodesAndEdgesFromCX(cx):\n",
    "    numberOfEdges = numberOfNodes = 0;\n",
    "    for aspect in cx:\n",
    "        #print('key')\n",
    "        if 'nodes' in aspect:\n",
    "            numberOfNodes = len(aspect['nodes'])\n",
    "        if 'metaData' in aspect:\n",
    "            metaData = aspect['metaData']\n",
    "            for element in metaData:\n",
    "                if (('name' in element) and (element['name'] == 'nodes')):\n",
    "                    numberOfNodes = element.get('elementCount')\n",
    "                if (('name' in element) and (element['name'] == 'edges')):\n",
    "                    numberOfEdges = element.get('elementCount')\n",
    "            break\n",
    "    return numberOfNodes, numberOfEdges\n",
    "\n",
    "nodes, edges = getNumberOfNodesAndEdgesFromCX(raw_cx)\n",
    "print(\"network contains %s nodes and %s edges.\" % (nodes, edges))"
   ]
  },
  {
   "cell_type": "markdown",
   "metadata": {},
   "source": [
    "#### get_neighborhood_as_cx_stream(network_id, search_string, search_depth=1, edge_limit=2500)"
   ]
  },
  {
   "cell_type": "code",
   "execution_count": null,
   "metadata": {
    "scrolled": false
   },
   "outputs": [],
   "source": [
    "#return a Response object or a CX stream?\n",
    "query_result_cx_stream = my_ndex.get_neighborhood_as_cx_stream('c9243cce-2d32-11e8-b939-0ac135e8bacf','XRN1')\n",
    "                                       \n",
    "print (query_result_cx_stream)"
   ]
  },
  {
   "cell_type": "markdown",
   "metadata": {},
   "source": [
    "#### save_cx_stream_as_new_network(cx_stream)"
   ]
  },
  {
   "cell_type": "code",
   "execution_count": null,
   "metadata": {},
   "outputs": [],
   "source": [
    "#I tried the code below, but got an error message:'Response' object has no attribute 'encode'\n",
    "uri_subset_cx_stream = my_ndex.save_cx_stream_as_new_network(query_result_cx_stream)\n",
    "uuid_subset_cx_stream = uri_subset_cx_stream.rpartition('/')[-1]\n",
    "print (\"URI of the subset is: \", uri_subset_cx_stream)\n",
    "print (\"UUID of the subset is: \", uuid_subset_cx_stream)"
   ]
  },
  {
   "cell_type": "markdown",
   "metadata": {},
   "source": [
    "#### get_neighborhood(network_id, search_string, search_depth=1, edge_limit=2500)"
   ]
  },
  {
   "cell_type": "code",
   "execution_count": null,
   "metadata": {
    "scrolled": true
   },
   "outputs": [],
   "source": [
    "#return a CX JSON object\n",
    "query_result_cx=my_ndex.get_neighborhood('c9243cce-2d32-11e8-b939-0ac135e8bacf','XRN1')\n",
    "                                       \n",
    "for aspect in query_result_cx:\n",
    "    if 'nodes' in aspect:\n",
    "        number_of_nodes = len(aspect['nodes'])\n",
    "    if 'edges' in aspect:\n",
    "        number_of_edges = len(aspect['edges'])\n",
    "\n",
    "print(\"Query result network contains %s nodes and %s edges.\" % (number_of_nodes, number_of_edges))"
   ]
  },
  {
   "cell_type": "markdown",
   "metadata": {},
   "source": [
    "#### save_new_network(cx)"
   ]
  },
  {
   "cell_type": "code",
   "execution_count": null,
   "metadata": {},
   "outputs": [],
   "source": [
    "uri_subset = my_ndex.save_new_network(query_result_cx)\n",
    "uuid_subset = uri_subset.rpartition('/')[-1]\n",
    "print (\"URI of the subset is: \", uri_subset)\n",
    "print (\"UUID of the subset is: \", uuid_subset)\n",
    "\n",
    "new_summary = my_ndex.get_network_summary(uuid_subset)\n",
    " \n",
    "if new_summary.get(\"isValid\"):\n",
    "        print(\"New network has been validated by the server.\\n\")\n",
    "else:\n",
    "    print(\"failed\\n\")\n",
    "    print (new_summary)"
   ]
  },
  {
   "cell_type": "markdown",
   "metadata": {},
   "source": [
    "#### update_cx_network(cx_stream, network_id)"
   ]
  },
  {
   "cell_type": "code",
   "execution_count": null,
   "metadata": {},
   "outputs": [],
   "source": [
    "#did not try this method since don't understand well"
   ]
  },
  {
   "cell_type": "markdown",
   "metadata": {},
   "source": [
    "#### get_network_ids_for_user(account_name)"
   ]
  },
  {
   "cell_type": "code",
   "execution_count": null,
   "metadata": {},
   "outputs": [],
   "source": [
    "list_uuid = my_ndex.get_network_ids_for_user(\"Jeffreyc\")\n",
    "print (list_uuid)"
   ]
  },
  {
   "cell_type": "markdown",
   "metadata": {},
   "source": [
    "#### delete_network(network_id)"
   ]
  },
  {
   "cell_type": "code",
   "execution_count": null,
   "metadata": {},
   "outputs": [],
   "source": [
    "indexval = 0\n",
    "for i in range(len(list_uuid)):\n",
    "    if (list_uuid[indexval] != uuid_subset):\n",
    "        my_ndex.delete_network(list_uuid[indexval])        \n",
    "    else:\n",
    "        print(\"URI of the newly created network %s is %s\" % (uuid_subset, uri_subset))\n",
    "    indexval += 1"
   ]
  },
  {
   "cell_type": "markdown",
   "metadata": {},
   "source": [
    "###### set_network_system_properties(network_id, network_system_properties)"
   ]
  },
  {
   "cell_type": "markdown",
   "metadata": {},
   "source": [
    "##### make_network_private(network_id)"
   ]
  },
  {
   "cell_type": "markdown",
   "metadata": {},
   "source": [
    "#### make_network_public(network_id)"
   ]
  },
  {
   "cell_type": "code",
   "execution_count": null,
   "metadata": {},
   "outputs": [],
   "source": [
    "my_ndex.make_network_public(uuid_subset)"
   ]
  },
  {
   "cell_type": "markdown",
   "metadata": {},
   "source": [
    "#### set_read_only(network_id, value)"
   ]
  },
  {
   "cell_type": "code",
   "execution_count": null,
   "metadata": {},
   "outputs": [],
   "source": [
    "#revert network to read-write \n",
    "my_ndex.set_read_only(uuid_subset, False)\n",
    "new_summary = my_ndex.get_network_summary(uuid_subset)\n",
    "print(\"The read only status has been reverted to %s\" % new_summary.get('isReadOnly'))"
   ]
  },
  {
   "cell_type": "markdown",
   "metadata": {},
   "source": [
    "##### update_network_group_permission(group_id, network_id, permission)"
   ]
  },
  {
   "cell_type": "markdown",
   "metadata": {},
   "source": [
    "##### grant_networks_to_group(group_id, network_ids, permission=”READ”)"
   ]
  },
  {
   "cell_type": "markdown",
   "metadata": {},
   "source": [
    "##### update_network_user_permission(user_id, network_id, permission)"
   ]
  },
  {
   "cell_type": "markdown",
   "metadata": {},
   "source": [
    "##### grant_network_to_user_by_username(username, network_id, permission)"
   ]
  },
  {
   "cell_type": "markdown",
   "metadata": {},
   "source": [
    "##### grant_networks_to_user(user_id, network_ids, permission=”READ”)"
   ]
  },
  {
   "cell_type": "markdown",
   "metadata": {},
   "source": [
    "#### update_network_profile(network_id, network_profile)"
   ]
  },
  {
   "cell_type": "code",
   "execution_count": null,
   "metadata": {},
   "outputs": [],
   "source": [
    "network_profile={\"name\":\"My Network\", \"description\":\"learn from Tutorial\", \"version\":\"1.0\"}\n",
    "my_ndex.update_network_profile(uuid_subset, network_profile)    "
   ]
  },
  {
   "cell_type": "markdown",
   "metadata": {},
   "source": [
    "##### set_network_properties(network_id, network_properties)"
   ]
  },
  {
   "cell_type": "markdown",
   "metadata": {},
   "source": [
    "##### get_provenance(network_id)"
   ]
  },
  {
   "cell_type": "markdown",
   "metadata": {},
   "source": [
    "##### set_provenance(network_id, provenance)"
   ]
  },
  {
   "cell_type": "markdown",
   "metadata": {},
   "source": [
    "##### get_network_summaries_for_user(account_name)"
   ]
  },
  {
   "cell_type": "markdown",
   "metadata": {},
   "source": [
    "##### get_task_by_id(task_id)"
   ]
  },
  {
   "cell_type": "markdown",
   "metadata": {},
   "source": [
    "# NiceCX Objects"
   ]
  },
  {
   "cell_type": "markdown",
   "metadata": {},
   "source": [
    "#### Modules Required for NiceCX Tutorial"
   ]
  },
  {
   "cell_type": "code",
   "execution_count": 24,
   "metadata": {},
   "outputs": [],
   "source": [
    "from ndex2.nice_cx_network import NiceCXNetwork\n",
    "import ndex2.client as nc\n",
    "import ndex2\n",
    "import networkx as nx\n",
    "import pandas as pd\n",
    "import os"
   ]
  },
  {
   "cell_type": "markdown",
   "metadata": {},
   "source": [
    "#### set_name()"
   ]
  },
  {
   "cell_type": "code",
   "execution_count": 25,
   "metadata": {},
   "outputs": [],
   "source": [
    "#create/initial an empty niceCX network before setting the network name\n",
    "NiceCX_creatures = NiceCXNetwork()\n",
    "NiceCX_creatures.set_name(\"new web\")"
   ]
  },
  {
   "cell_type": "markdown",
   "metadata": {},
   "source": [
    "#### ndex2.create_nice_cx_from_raw_cx(cx)"
   ]
  },
  {
   "cell_type": "code",
   "execution_count": null,
   "metadata": {},
   "outputs": [],
   "source": [
    "NiceCX_from_stream = ndex2.create_nice_cx_from_raw_cx(raw_cx)\n",
    "NiceCX_from_stream.print_summary()"
   ]
  },
  {
   "cell_type": "markdown",
   "metadata": {},
   "source": [
    "##### ndex2.create_nice_cx_from_file(path)"
   ]
  },
  {
   "cell_type": "markdown",
   "metadata": {},
   "source": [
    "##### ndex2.create_nice_cx_from_networkx(G)"
   ]
  },
  {
   "cell_type": "markdown",
   "metadata": {},
   "source": [
    "##### ndex2.create_nice_cx_from_pandas(df)"
   ]
  },
  {
   "cell_type": "markdown",
   "metadata": {},
   "source": [
    "#### ndex2.create_nice_cx_from_server(server, username=None, password=None, uuid=None)"
   ]
  },
  {
   "cell_type": "code",
   "execution_count": 26,
   "metadata": {},
   "outputs": [
    {
     "name": "stdout",
     "output_type": "stream",
     "text": [
      "Name: ChEMBL - High Affinity Compounds vs human targets (Commercially available)\n",
      "Nodes: 3564\n",
      "Edges: 11564\n",
      "Node Attributes: 13569\n",
      "Edge Attributes: 57820\n",
      "\n"
     ]
    }
   ],
   "source": [
    "uuid = \"1c69beff-1229-11e6-a039-06603eb7f303\"\n",
    "nice_cx_network = ndex2.create_nice_cx_from_server(server='http://public.ndexbio.org', uuid=uuid)\n",
    "nice_cx_network.print_summary()"
   ]
  },
  {
   "cell_type": "markdown",
   "metadata": {},
   "source": [
    "#### get_nodes()"
   ]
  },
  {
   "cell_type": "code",
   "execution_count": 27,
   "metadata": {},
   "outputs": [],
   "source": [
    "node_name_list = []\n",
    "node_id_list =[]\n",
    "\n",
    "for node_id, node in nice_cx_network.get_nodes():\n",
    "    node_name = node.get('n')  \n",
    "    #node_name = list(node.values())[1]\n",
    "    node_name_list.append(node_name)\n",
    "    node_id_list.append(node_id)\n",
    "    \n",
    "name_id_map = dict(zip(node_name_list,node_id_list))\n",
    "\n",
    "#name_id_map = {node.get('n'): node.get('@id') for node_id, node in nice_cx_network.get_nodes()}\n",
    "\n"
   ]
  },
  {
   "cell_type": "markdown",
   "metadata": {},
   "source": [
    "#### get_node(node)"
   ]
  },
  {
   "cell_type": "code",
   "execution_count": 28,
   "metadata": {},
   "outputs": [
    {
     "name": "stdout",
     "output_type": "stream",
     "text": [
      "{'@id': 87, 'n': 'ACPP', 'r': 'uniprot:P15309'}\n"
     ]
    }
   ],
   "source": [
    "#sample_node_id = name_id_map.get('ACPP')\n",
    "sample_node_id = name_id_map['ACPP']\n",
    "sample_node = nice_cx_network.get_node( sample_node_id )\n",
    "print(sample_node)"
   ]
  },
  {
   "cell_type": "markdown",
   "metadata": {},
   "source": [
    "#### get_node_attributes(node)"
   ]
  },
  {
   "cell_type": "code",
   "execution_count": 29,
   "metadata": {},
   "outputs": [
    {
     "data": {
      "text/plain": [
       "[{'po': 87, 'n': 'Target Name', 'v': 'Prostatic acid phosphatase'},\n",
       " {'po': 87,\n",
       "  'n': 'BindingDB Target Page',\n",
       "  'v': 'http://www.bindingdb.org/jsp/dbsearch/PrimarySearch_ki.jsp?energyterm=kJ/mole&tag=pol&polymerid=50000972&target=Prostatic+acid+phosphatase&column=ki&startPg=0&Increment=50&submit=Search'},\n",
       " {'po': 87, 'n': 'type', 'v': 'protein'}]"
      ]
     },
     "execution_count": 29,
     "metadata": {},
     "output_type": "execute_result"
    }
   ],
   "source": [
    "nice_cx_network.get_node_attributes(sample_node)"
   ]
  },
  {
   "cell_type": "markdown",
   "metadata": {},
   "source": [
    "#### get_node_attribute(node, attribute_name, subnetwork=None)"
   ]
  },
  {
   "cell_type": "code",
   "execution_count": 30,
   "metadata": {},
   "outputs": [
    {
     "name": "stdout",
     "output_type": "stream",
     "text": [
      "{'po': 87, 'n': 'type', 'v': 'protein'}\n",
      "protein\n"
     ]
    }
   ],
   "source": [
    "attr_dict = nice_cx_network.get_node_attribute(sample_node_id, 'type')\n",
    "\n",
    "attr_value = attr_dict.get('v')\n",
    "\n",
    "print (attr_dict)\n",
    "print(attr_value)\n"
   ]
  },
  {
   "cell_type": "markdown",
   "metadata": {},
   "source": [
    "##### get_node_attribute_objects(node, attribute_name)"
   ]
  },
  {
   "cell_type": "code",
   "execution_count": 12,
   "metadata": {},
   "outputs": [],
   "source": [
    "#get_node_attribute_objects() is deprecated.  Please use get_node_attribute() instead"
   ]
  },
  {
   "cell_type": "markdown",
   "metadata": {},
   "source": [
    "#### create_node(name, represents=None)"
   ]
  },
  {
   "cell_type": "code",
   "execution_count": 31,
   "metadata": {
    "scrolled": true
   },
   "outputs": [],
   "source": [
    "new_network_node_id_list =[]\n",
    "\n",
    "for i in range (len(node_name_list)):\n",
    "    new_node_id = NiceCX_creatures.create_node(node_name_list[i]) \n",
    "    new_network_node_id_list.append(new_node_id)\n",
    "    \n",
    "#print (new_network_node_id_list)"
   ]
  },
  {
   "cell_type": "markdown",
   "metadata": {},
   "source": [
    "#### add_node(node)"
   ]
  },
  {
   "cell_type": "code",
   "execution_count": null,
   "metadata": {},
   "outputs": [],
   "source": [
    "#This method has been deprecated. Please use create_node()"
   ]
  },
  {
   "cell_type": "markdown",
   "metadata": {},
   "source": [
    "#### set_node_attribute(node, attribute_name, values, type=None, subnetwork=None)"
   ]
  },
  {
   "cell_type": "code",
   "execution_count": 32,
   "metadata": {},
   "outputs": [
    {
     "data": {
      "text/plain": [
       "{'po': 0, 'n': 'type', 'v': 'protein'}"
      ]
     },
     "execution_count": 32,
     "metadata": {},
     "output_type": "execute_result"
    }
   ],
   "source": [
    "node_id = new_network_node_id_list[0]\n",
    "node_attr_name = \"type\"\n",
    "node_attr_value = attr_value\n",
    "\n",
    "NiceCX_creatures.set_node_attribute(node_id, node_attr_name, node_attr_value) \n",
    "\n",
    "NiceCX_creatures.get_node_attribute(node_id, node_attr_name)"
   ]
  },
  {
   "cell_type": "markdown",
   "metadata": {},
   "source": [
    "#### get_edges()"
   ]
  },
  {
   "cell_type": "code",
   "execution_count": 45,
   "metadata": {},
   "outputs": [
    {
     "name": "stdout",
     "output_type": "stream",
     "text": [
      "11563\n",
      "11564\n"
     ]
    }
   ],
   "source": [
    "edge_s_list = []\n",
    "edge_t_list = []\n",
    "edge_i_list = []\n",
    "\n",
    "for edge_id, edge in nice_cx_network.get_edges():        \n",
    "    edge_s = edge.get('s') \n",
    "    edge_t = edge.get('t') \n",
    "    edge_i = edge.get('i') \n",
    "    \n",
    "    edge_s_list.append(edge_s)\n",
    "    edge_t_list.append(edge_t)\n",
    "    edge_i_list.append(edge_i)\n",
    "    \n",
    "print (edge_id)"
   ]
  },
  {
   "cell_type": "markdown",
   "metadata": {},
   "source": [
    "#### get_edge_attributes(edge)"
   ]
  },
  {
   "cell_type": "code",
   "execution_count": 38,
   "metadata": {},
   "outputs": [
    {
     "data": {
      "text/plain": [
       "[{'po': 11563, 'n': 'Affinity (nM)', 'v': '>10.0'},\n",
       " {'po': 11563,\n",
       "  'n': 'BindingDB Details of Measurement',\n",
       "  'v': 'http://www.bindingdb.org/jsp/dbsearch/Summary_ki.jsp?reactant_set_id=51082255'},\n",
       " {'po': 11563,\n",
       "  'n': 'All BindingDB Data for Ligand-Target Pair',\n",
       "  'v': 'http://www.bindingdb.org/jsp/dbsearch/PrimarySearch_ki.jsp?energyterm=kJ/mole&tag=r21&monomerid=50442760&enzyme=Tyrosine-protein+kinase+ZAP-70&column=ki&startPg=0&Increment=50&submit=Search'},\n",
       " {'po': 11563, 'n': 'Data Curation Source', 'v': 'ChEMBL'},\n",
       " {'po': 11563,\n",
       "  'n': 'citation',\n",
       "  'v': ['pubmed:24100158'],\n",
       "  'd': 'list_of_string'}]"
      ]
     },
     "execution_count": 38,
     "metadata": {},
     "output_type": "execute_result"
    }
   ],
   "source": [
    "sample_edge_id = edge_id\n",
    "nice_cx_network.get_edge_attributes(sample_edge_id)"
   ]
  },
  {
   "cell_type": "markdown",
   "metadata": {},
   "source": [
    "#### get_edge_attribute(edge, attribute_name, subnetwork=None)"
   ]
  },
  {
   "cell_type": "code",
   "execution_count": 40,
   "metadata": {},
   "outputs": [
    {
     "name": "stdout",
     "output_type": "stream",
     "text": [
      "Affinity (nM)\n",
      ">10.0\n"
     ]
    },
    {
     "data": {
      "text/plain": [
       "{'po': 11563, 'n': 'Affinity (nM)', 'v': '>10.0'}"
      ]
     },
     "execution_count": 40,
     "metadata": {},
     "output_type": "execute_result"
    }
   ],
   "source": [
    "edge_attr_list = nice_cx_network.get_edge_attributes(sample_edge_id)\n",
    "sample_edge_attr_name = edge_attr_list[0].get('n')\n",
    "sample_edge_attr_value = edge_attr_list[0].get('v')\n",
    "\n",
    "nice_cx_network.get_edge_attribute(sample_edge_id, sample_edge_attr_name)"
   ]
  },
  {
   "cell_type": "markdown",
   "metadata": {},
   "source": [
    "#### get_edge_attribute_objects(edge, attribute_name)"
   ]
  },
  {
   "cell_type": "code",
   "execution_count": null,
   "metadata": {},
   "outputs": [],
   "source": [
    "#This method has been deprecated. Please use get_edge_attributes()"
   ]
  },
  {
   "cell_type": "markdown",
   "metadata": {},
   "source": [
    "#### create_edge(source, target, interaction)"
   ]
  },
  {
   "cell_type": "code",
   "execution_count": 47,
   "metadata": {},
   "outputs": [
    {
     "name": "stdout",
     "output_type": "stream",
     "text": [
      "11564\n"
     ]
    }
   ],
   "source": [
    "new_edge_id_list = []\n",
    "\n",
    "for i in range(len(edge_s_list)):\n",
    "    new_edge_id = NiceCX_creatures.create_edge(edge_s_list[i], edge_t_list[i], edge_i_list[i])\n",
    "    new_edge_id_list.append(new_edge_id)           "
   ]
  },
  {
   "cell_type": "markdown",
   "metadata": {},
   "source": [
    "#### set_edge_attribute(edge, attribute_name, values, type=None, subnetwork=None)"
   ]
  },
  {
   "cell_type": "code",
   "execution_count": 48,
   "metadata": {},
   "outputs": [],
   "source": [
    "NiceCX_creatures.set_edge_attribute(new_edge_id_list[0], sample_edge_attr_name, sample_edge_attr_value )"
   ]
  },
  {
   "cell_type": "markdown",
   "metadata": {},
   "source": [
    "#### add_edge(edge)"
   ]
  },
  {
   "cell_type": "code",
   "execution_count": null,
   "metadata": {},
   "outputs": [],
   "source": [
    "#This method has been deprecated. Please use create_edge()"
   ]
  },
  {
   "cell_type": "markdown",
   "metadata": {},
   "source": [
    "get_name()"
   ]
  },
  {
   "cell_type": "markdown",
   "metadata": {},
   "source": [
    "set_name(network_name)"
   ]
  },
  {
   "cell_type": "markdown",
   "metadata": {},
   "source": [
    "getSummary()"
   ]
  },
  {
   "cell_type": "markdown",
   "metadata": {},
   "source": [
    "set_network_attribute(name=None, values=None, type=None, subnetwork_id=None)"
   ]
  },
  {
   "cell_type": "markdown",
   "metadata": {},
   "source": [
    "get_network_attribute(attribute_name, subnetwork_id=None)"
   ]
  },
  {
   "cell_type": "markdown",
   "metadata": {},
   "source": [
    "get_network_attribute_objects(attribute_name)"
   ]
  },
  {
   "cell_type": "markdown",
   "metadata": {},
   "source": [
    "get_network_attributes()"
   ]
  },
  {
   "cell_type": "markdown",
   "metadata": {},
   "source": [
    "get_metadata()"
   ]
  },
  {
   "cell_type": "markdown",
   "metadata": {},
   "source": [
    "set_metadata()"
   ]
  },
  {
   "cell_type": "markdown",
   "metadata": {},
   "source": [
    "getProvenance()"
   ]
  },
  {
   "cell_type": "markdown",
   "metadata": {},
   "source": [
    "set_provenance(provenance)"
   ]
  },
  {
   "cell_type": "markdown",
   "metadata": {},
   "source": [
    "get_context(context)"
   ]
  },
  {
   "cell_type": "markdown",
   "metadata": {},
   "source": [
    "set_context()"
   ]
  },
  {
   "cell_type": "markdown",
   "metadata": {},
   "source": [
    "set_context()"
   ]
  },
  {
   "cell_type": "markdown",
   "metadata": {},
   "source": [
    "set_context()"
   ]
  },
  {
   "cell_type": "markdown",
   "metadata": {},
   "source": [
    "get_opaque_aspect(aspect_name)"
   ]
  },
  {
   "cell_type": "markdown",
   "metadata": {},
   "source": [
    "set_opaque_aspect(aspect_name, aspect_elements)"
   ]
  },
  {
   "cell_type": "markdown",
   "metadata": {},
   "source": [
    "set_opaque_aspect(aspect_name, aspect_elements)"
   ]
  },
  {
   "cell_type": "markdown",
   "metadata": {},
   "source": [
    "get_opaque_aspect_names()"
   ]
  },
  {
   "cell_type": "markdown",
   "metadata": {},
   "source": [
    "to_cx()"
   ]
  },
  {
   "cell_type": "markdown",
   "metadata": {},
   "source": [
    "to_cx_stream()"
   ]
  },
  {
   "cell_type": "markdown",
   "metadata": {},
   "source": [
    "#### to_networkx()"
   ]
  },
  {
   "cell_type": "code",
   "execution_count": null,
   "metadata": {},
   "outputs": [],
   "source": [
    "networkx_network = nice_cx_network.to_networkx()"
   ]
  },
  {
   "cell_type": "markdown",
   "metadata": {},
   "source": [
    "#### to_pandas_dataframe()"
   ]
  },
  {
   "cell_type": "code",
   "execution_count": null,
   "metadata": {},
   "outputs": [],
   "source": [
    "pandas_network = nice_cx_network.to_pandas_dataframe()"
   ]
  },
  {
   "cell_type": "markdown",
   "metadata": {},
   "source": [
    "upload(ndex_server, username, password, update_uuid=None)"
   ]
  },
  {
   "cell_type": "markdown",
   "metadata": {},
   "source": [
    "apply_template(server, username, password, uuid)"
   ]
  },
  {
   "cell_type": "markdown",
   "metadata": {},
   "source": [
    "addNode(json_obj=None)"
   ]
  },
  {
   "cell_type": "markdown",
   "metadata": {},
   "source": [
    "add_edge_element(json_obj=None, edge)"
   ]
  },
  {
   "cell_type": "markdown",
   "metadata": {},
   "source": [
    "addNetworkAttribute(json_obj=None)"
   ]
  }
 ],
 "metadata": {
  "celltoolbar": "Raw Cell Format",
  "kernelspec": {
   "display_name": "Python 3",
   "language": "python",
   "name": "python3"
  },
  "language_info": {
   "codemirror_mode": {
    "name": "ipython",
    "version": 3
   },
   "file_extension": ".py",
   "mimetype": "text/x-python",
   "name": "python",
   "nbconvert_exporter": "python",
   "pygments_lexer": "ipython3",
   "version": "3.7.3"
  }
 },
 "nbformat": 4,
 "nbformat_minor": 2
}
